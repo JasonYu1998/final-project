{
  "nbformat": 4,
  "nbformat_minor": 5,
  "metadata": {
    "kernelspec": {
      "display_name": "Python 3",
      "language": "python",
      "name": "python3"
    },
    "language_info": {
      "codemirror_mode": {
        "name": "ipython",
        "version": 3
      },
      "file_extension": ".py",
      "mimetype": "text/x-python",
      "name": "python",
      "nbconvert_exporter": "python",
      "pygments_lexer": "ipython3",
      "version": "3.6.12"
    },
    "colab": {
      "name": "Re-ID.ipynb",
      "provenance": []
    },
    "accelerator": "GPU"
  },
  "cells": [
    {
      "cell_type": "code",
      "metadata": {
        "id": "naval-corruption"
      },
      "source": [
        "import tensorflow as tf\n",
        "import numpy as np\n",
        "from matplotlib import pyplot as plt\n",
        "from tensorflow.keras.layers import *\n",
        "from tensorflow.keras.optimizers import *\n",
        "from tensorflow.keras.models import *\n",
        "from tensorflow.keras.losses import *\n",
        "import matplotlib.cm as cm\n",
        "import cv2\n",
        "from tensorflow.keras import backend as K\n",
        "import time\n",
        "from sklearn.metrics import accuracy_score"
      ],
      "id": "naval-corruption",
      "execution_count": null,
      "outputs": []
    },
    {
      "cell_type": "code",
      "metadata": {
        "id": "external-station"
      },
      "source": [
        "import warnings   # 消除警告\n",
        "warnings.filterwarnings(\"ignore\")"
      ],
      "id": "external-station",
      "execution_count": null,
      "outputs": []
    },
    {
      "cell_type": "code",
      "metadata": {
        "id": "royal-gender"
      },
      "source": [
        "from tensorflow.compat.v1 import ConfigProto\n",
        "from tensorflow.compat.v1 import InteractiveSession\n",
        "import os\n",
        "os.environ[\"CUDA_DEVICE_ORDER\"] = \"PCI_BUS_ID\"\n",
        "os.environ['CUDA_VISIBLE_DEVICES'] = '0,1'\n",
        "config = ConfigProto()\n",
        "config.allow_soft_placement=True\n",
        "config.gpu_options.per_process_gpu_memory_fraction=0.7\n",
        "config.gpu_options.allow_growth = True\n",
        "session = InteractiveSession(config=config)"
      ],
      "id": "royal-gender",
      "execution_count": null,
      "outputs": []
    },
    {
      "cell_type": "markdown",
      "metadata": {
        "id": "amateur-reproduction"
      },
      "source": [
        "Preparing data"
      ],
      "id": "amateur-reproduction"
    },
    {
      "cell_type": "code",
      "metadata": {
        "colab": {
          "base_uri": "https://localhost:8080/"
        },
        "id": "scientific-viking",
        "outputId": "5ce12bba-69f1-4b2c-bad1-e95b7ea2373f"
      },
      "source": [
        "(x_train, y_train), (x_test, y_test) =  tf.keras.datasets.mnist.load_data()\n",
        "\n",
        "# Reshaping the array to 4-dims so that it can work with the Keras API\n",
        "x_train = tf.image.grayscale_to_rgb(tf.expand_dims(x_train, axis=3))\n",
        "x_test = tf.image.grayscale_to_rgb(tf.expand_dims(x_test, axis=3))\n",
        "\n",
        "x_train = x_train.numpy()\n",
        "x_test = x_test.numpy()\n",
        "\n",
        "# Making sure that the values are float so that we can get decimal points after division\n",
        "x_train = x_train.astype('float32')/255  # (60000, 28, 28, 3)\n",
        "x_test = x_test.astype('float32')/255    # (10000, 28, 28, 3)\n",
        "# Normalizing the RGB codes by dividing it to the max RGB value.\n",
        "\n",
        "from sklearn.preprocessing import OneHotEncoder\n",
        "\n",
        "Onehot = OneHotEncoder()\n",
        "y_train = np.reshape(y_train, (-1,1))\n",
        "Onehot.fit(y_train)\n",
        "y_train = Onehot.transform(y_train).toarray()\n",
        "y_test = Onehot.transform(np.reshape(y_test,(-1,1))).toarray()"
      ],
      "id": "scientific-viking",
      "execution_count": null,
      "outputs": [
        {
          "output_type": "stream",
          "text": [
            "Downloading data from https://storage.googleapis.com/tensorflow/tf-keras-datasets/mnist.npz\n",
            "11493376/11490434 [==============================] - 0s 0us/step\n"
          ],
          "name": "stdout"
        }
      ]
    },
    {
      "cell_type": "code",
      "metadata": {
        "id": "educational-explorer"
      },
      "source": [
        "class Structure(tf.keras.Model):\n",
        "    def __init__(self):\n",
        "        super(Structure, self).__init__()\n",
        "        \n",
        "        ### Encoder Net\n",
        "        self.enc_conv1 = Conv2D(32,\n",
        "                                kernel_size=(3, 3),\n",
        "                                padding='same',\n",
        "                                activation='relu',\n",
        "                                name='enc_conv1')\n",
        "        \n",
        "        self.enc_pool1 = MaxPooling2D(pool_size=(2, 2), \n",
        "                                      name='enc_pool1')\n",
        "        \n",
        "        \n",
        "        self.enc_conv2 = Conv2D(64,\n",
        "                                kernel_size=(3, 3),\n",
        "                                padding='same',\n",
        "                                activation='relu',\n",
        "                                name='enc_conv2')\n",
        "        \n",
        "        self.enc_pool2 = MaxPooling2D(pool_size=(2, 2), \n",
        "                                      name='enc_pool2')\n",
        "        \n",
        "        ### IDE model\n",
        "        self.ide_flat = Flatten()\n",
        "        \n",
        "        self.ide_outputs = Dense(10, \n",
        "                                activation='softmax', \n",
        "                                name='ide_outputs')\n",
        "        \n",
        "        ### BCE model\n",
        "        self.bce_dense1 = Dense(500, \n",
        "                                activation=LeakyReLU(alpha=0.3),\n",
        "                                name='bce_dense1')\n",
        "        \n",
        "        self.bce_dense2 = Dense(100,  \n",
        "                                activation=LeakyReLU(alpha=0.3),\n",
        "                                name='bce_dense2')\n",
        "        \n",
        "        self.bce_dense3 = Dense(10, \n",
        "                                activation=LeakyReLU(alpha=0.3),\n",
        "                                name='bce_dense3')\n",
        "        \n",
        "        self.bce_outputs = Dense(2, \n",
        "                                 activation='softmax',\n",
        "                                 name='bce_outputs')\n",
        "        \n",
        "    def enc_model(self, x):              # (None, 28, 28, 3)\n",
        "        z = self.enc_conv1(x)            # (None, 28, 28, 32)\n",
        "        z = self.enc_pool1(z)            # (None, 14, 14, 32)\n",
        "        z = self.enc_conv2(z)            # (None, 14, 14, 64)\n",
        "        feat_ide_P2 = self.enc_pool2(z)  # (None, 7, 7, 64)\n",
        "        return z, feat_ide_P2\n",
        "\n",
        "    def ide_model(self, x):              # (None, 7, 7, 64)\n",
        "        z = self.ide_flat(x)             # (None, 3136)\n",
        "        z = self.ide_outputs(z)          # (None, 10)\n",
        "        return z\n",
        "\n",
        "    def bce_model(self, f_sub):                   # (None, 3136)\n",
        "        z = LeakyReLU(alpha=0.3)(f_sub)           # (None, 3136)\n",
        "        z = self.bce_dense1(z)                    # (None, 500)\n",
        "        z = LeakyReLU(alpha=0.3)(z)   \n",
        "        z = self.bce_dense2(z)                    # (None, 100)\n",
        "        z = LeakyReLU(alpha=0.3)(z)  \n",
        "        z = self.bce_dense3(z)                    # (None, 10)\n",
        "        z = LeakyReLU(alpha=0.3)(z)  \n",
        "        z = self.bce_outputs(z)                   # (None, 2)\n",
        "        return z\n",
        "\n",
        "    def call(self, inputs, **kwargs):\n",
        "        z, fp = self.enc_model(inputs)\n",
        "        pred_10 = self.ide_model(fp)\n",
        "        \n",
        "        _ = self.bce_model(tf.zeros([1, 3136])) # 建立但不用，做 gradcam 時會用到\n",
        "        \n",
        "        return pred_10, fp"
      ],
      "id": "educational-explorer",
      "execution_count": null,
      "outputs": []
    },
    {
      "cell_type": "code",
      "metadata": {
        "colab": {
          "base_uri": "https://localhost:8080/"
        },
        "id": "choice-thriller",
        "outputId": "70602409-fdb0-4c55-b644-838f0bfe4ffe"
      },
      "source": [
        "# Create Model\n",
        "struc = Structure()\n",
        "struc.build(input_shape=(1, 28, 28, 3))\n",
        "struc.summary()"
      ],
      "id": "choice-thriller",
      "execution_count": null,
      "outputs": [
        {
          "output_type": "stream",
          "text": [
            "Model: \"structure\"\n",
            "_________________________________________________________________\n",
            "Layer (type)                 Output Shape              Param #   \n",
            "=================================================================\n",
            "enc_conv1 (Conv2D)           multiple                  896       \n",
            "_________________________________________________________________\n",
            "enc_pool1 (MaxPooling2D)     multiple                  0         \n",
            "_________________________________________________________________\n",
            "enc_conv2 (Conv2D)           multiple                  18496     \n",
            "_________________________________________________________________\n",
            "enc_pool2 (MaxPooling2D)     multiple                  0         \n",
            "_________________________________________________________________\n",
            "flatten (Flatten)            multiple                  0         \n",
            "_________________________________________________________________\n",
            "ide_outputs (Dense)          multiple                  31370     \n",
            "_________________________________________________________________\n",
            "bce_dense1 (Dense)           multiple                  1568500   \n",
            "_________________________________________________________________\n",
            "bce_dense2 (Dense)           multiple                  50100     \n",
            "_________________________________________________________________\n",
            "bce_dense3 (Dense)           multiple                  1010      \n",
            "_________________________________________________________________\n",
            "bce_outputs (Dense)          multiple                  22        \n",
            "=================================================================\n",
            "Total params: 1,670,394\n",
            "Trainable params: 1,670,394\n",
            "Non-trainable params: 0\n",
            "_________________________________________________________________\n"
          ],
          "name": "stdout"
        }
      ]
    },
    {
      "cell_type": "markdown",
      "metadata": {
        "id": "sound-citizen"
      },
      "source": [
        "Train IDE"
      ],
      "id": "sound-citizen"
    },
    {
      "cell_type": "code",
      "metadata": {
        "colab": {
          "base_uri": "https://localhost:8080/",
          "height": 1000
        },
        "id": "spoken-upper",
        "outputId": "a4dcf72d-8d01-4c3a-d485-2459a6b56d69"
      },
      "source": [
        "from sklearn.metrics import accuracy_score\n",
        "trainable_layers_name = ['enc_conv1', 'enc_conv2', 'ide_outputs']\n",
        "\n",
        "for layer in struc.layers:\n",
        "    if layer.name in trainable_layers_name:\n",
        "        layer.trainable = True\n",
        "    else:\n",
        "        layer.trainable = False\n",
        "    print(f'{layer.name} >> trainable:', layer.trainable, '\\n')\n",
        "\n",
        "struc.summary()\n",
        "\n",
        "optimizer_ide = Adam(1e-4)\n",
        "checkpoint_ide = tf.train.Checkpoint(optimizer=optimizer_ide, model=struc)\n",
        "loss_ide = CategoricalCrossentropy()\n",
        "\n",
        "epochs = 25\n",
        "batch_size = 100\n",
        "\n",
        "train_datasets = tf.data.Dataset.from_tensor_slices((x_train, y_train)).batch(batch_size).shuffle(buffer_size=x_train.shape[0])\n",
        "test_datasets = tf.data.Dataset.from_tensor_slices((x_test, y_test)).batch(batch_size).shuffle(buffer_size=x_test.shape[0])\n",
        "\n",
        "def IDE_train_step(x, y):\n",
        "    with tf.GradientTape() as tape:\n",
        "        pred, _ = struc(x)\n",
        "        loss = loss_ide(pred, y)\n",
        "    grads = tape.gradient(loss, struc.trainable_variables)\n",
        "    optimizer_ide.apply_gradients(zip(grads, struc.trainable_variables))\n",
        "    return loss, pred\n",
        "\n",
        "def IDE_test_step(x, y):\n",
        "    pred, _ = struc(x)\n",
        "    loss = loss_ide(pred, y)\n",
        "    return loss, pred\n",
        "\n",
        "def IDE_train_step2(x, y):\n",
        "    with tf.GradientTape() as tape:\n",
        "        pred, _ = struc(x)\n",
        "        loss = 1/loss_ide(pred, y)\n",
        "    grads = tape.gradient(loss, struc.trainable_variables)\n",
        "    optimizer_ide.apply_gradients(zip(grads, struc.trainable_variables))\n",
        "    return loss, pred\n",
        "\n",
        "def IDE_test_step2(x, y):\n",
        "    pred, _ = struc(x)\n",
        "    loss = 1/loss_ide(pred, y)\n",
        "    return loss, pred\n",
        "    \n",
        "tr_L_avg = []\n",
        "val_L_avg = []\n",
        "for epoch in range(epochs):\n",
        "    \n",
        "    tr_L = []\n",
        "    tr_Acc = []\n",
        "    \n",
        "    val_L = []\n",
        "    val_Acc = []\n",
        "    \n",
        "    start = time.time()\n",
        "\n",
        "    # train\n",
        "    for image_batch, label_batch in train_datasets:\n",
        "        loss, pred = IDE_train_step(image_batch, label_batch)\n",
        "        acc = accuracy_score(tf.argmax(label_batch, 1), tf.argmax(pred, 1).numpy())\n",
        "        tr_L.append(loss)\n",
        "        tr_Acc.append(acc)\n",
        "\n",
        "    # valdation\n",
        "    for image_batch, label_batch in test_datasets:\n",
        "        val_loss, val_pred = IDE_test_step(image_batch, label_batch)\n",
        "        val_acc = accuracy_score(tf.argmax(label_batch, 1), tf.argmax(val_pred, 1).numpy())\n",
        "        val_L.append(val_loss)\n",
        "        val_Acc.append(val_acc)\n",
        "\n",
        "    # show loss per epoch\n",
        "    print('\\nTime for epoch {} is {} sec'.format(epoch + 1, time.time() - start))\n",
        "    print('Train Loss: ', '%.4f' % np.mean(tr_L), 'Val Loss: ', '%.4f' % np.mean(val_L))\n",
        "    print('Train Acc: ', '%.4f' % np.mean(tr_Acc), 'Val Acc: ', '%.4f' % np.mean(val_Acc))\n",
        "    \n",
        "    tr_L_avg.append(np.mean(tr_L))\n",
        "    val_L_avg.append(np.mean(val_L))\n",
        "    \n",
        "plt.plot(tr_L_avg, label='Train')\n",
        "plt.plot(val_L_avg, label='Val')\n",
        "plt.title('model loss IDE')"
      ],
      "id": "spoken-upper",
      "execution_count": null,
      "outputs": [
        {
          "output_type": "stream",
          "text": [
            "enc_conv1 >> trainable: True \n",
            "\n",
            "enc_pool1 >> trainable: False \n",
            "\n",
            "enc_conv2 >> trainable: True \n",
            "\n",
            "enc_pool2 >> trainable: False \n",
            "\n",
            "flatten >> trainable: False \n",
            "\n",
            "ide_outputs >> trainable: True \n",
            "\n",
            "bce_dense1 >> trainable: False \n",
            "\n",
            "bce_dense2 >> trainable: False \n",
            "\n",
            "bce_dense3 >> trainable: False \n",
            "\n",
            "bce_outputs >> trainable: False \n",
            "\n",
            "Model: \"structure\"\n",
            "_________________________________________________________________\n",
            "Layer (type)                 Output Shape              Param #   \n",
            "=================================================================\n",
            "enc_conv1 (Conv2D)           multiple                  896       \n",
            "_________________________________________________________________\n",
            "enc_pool1 (MaxPooling2D)     multiple                  0         \n",
            "_________________________________________________________________\n",
            "enc_conv2 (Conv2D)           multiple                  18496     \n",
            "_________________________________________________________________\n",
            "enc_pool2 (MaxPooling2D)     multiple                  0         \n",
            "_________________________________________________________________\n",
            "flatten (Flatten)            multiple                  0         \n",
            "_________________________________________________________________\n",
            "ide_outputs (Dense)          multiple                  31370     \n",
            "_________________________________________________________________\n",
            "bce_dense1 (Dense)           multiple                  1568500   \n",
            "_________________________________________________________________\n",
            "bce_dense2 (Dense)           multiple                  50100     \n",
            "_________________________________________________________________\n",
            "bce_dense3 (Dense)           multiple                  1010      \n",
            "_________________________________________________________________\n",
            "bce_outputs (Dense)          multiple                  22        \n",
            "=================================================================\n",
            "Total params: 1,670,394\n",
            "Trainable params: 50,762\n",
            "Non-trainable params: 1,619,632\n",
            "_________________________________________________________________\n",
            "\n",
            "Time for epoch 1 is 40.65755486488342 sec\n",
            "Train Loss:  5.7273 Val Loss:  2.8939\n",
            "Train Acc:  0.6884 Val Acc:  0.8365\n",
            "\n",
            "Time for epoch 2 is 9.824048042297363 sec\n",
            "Train Loss:  2.7477 Val Loss:  2.4742\n",
            "Train Acc:  0.8405 Val Acc:  0.8541\n",
            "\n",
            "Time for epoch 3 is 9.53153371810913 sec\n",
            "Train Loss:  2.4544 Val Loss:  2.3615\n",
            "Train Acc:  0.8546 Val Acc:  0.8585\n",
            "\n",
            "Time for epoch 4 is 9.608222723007202 sec\n",
            "Train Loss:  2.2929 Val Loss:  2.1673\n",
            "Train Acc:  0.8630 Val Acc:  0.8694\n",
            "\n",
            "Time for epoch 5 is 9.58121371269226 sec\n",
            "Train Loss:  2.1764 Val Loss:  2.0685\n",
            "Train Acc:  0.8693 Val Acc:  0.8750\n",
            "\n",
            "Time for epoch 6 is 9.643782377243042 sec\n",
            "Train Loss:  2.0892 Val Loss:  2.0389\n",
            "Train Acc:  0.8741 Val Acc:  0.8768\n",
            "\n",
            "Time for epoch 7 is 9.582648038864136 sec\n",
            "Train Loss:  2.0244 Val Loss:  1.9710\n",
            "Train Acc:  0.8781 Val Acc:  0.8807\n",
            "\n",
            "Time for epoch 8 is 9.615907669067383 sec\n",
            "Train Loss:  1.9783 Val Loss:  1.9483\n",
            "Train Acc:  0.8803 Val Acc:  0.8807\n",
            "\n",
            "Time for epoch 9 is 9.630841255187988 sec\n",
            "Train Loss:  1.9364 Val Loss:  1.9197\n",
            "Train Acc:  0.8830 Val Acc:  0.8832\n",
            "\n",
            "Time for epoch 10 is 9.6162850856781 sec\n",
            "Train Loss:  1.9098 Val Loss:  1.8927\n",
            "Train Acc:  0.8842 Val Acc:  0.8841\n",
            "\n",
            "Time for epoch 11 is 9.757410764694214 sec\n",
            "Train Loss:  1.4225 Val Loss:  0.4950\n",
            "Train Acc:  0.9152 Val Acc:  0.9719\n",
            "\n",
            "Time for epoch 12 is 9.649912357330322 sec\n",
            "Train Loss:  0.4775 Val Loss:  0.4406\n",
            "Train Acc:  0.9743 Val Acc:  0.9752\n",
            "\n",
            "Time for epoch 13 is 9.562186002731323 sec\n",
            "Train Loss:  0.4161 Val Loss:  0.4186\n",
            "Train Acc:  0.9774 Val Acc:  0.9769\n",
            "\n",
            "Time for epoch 14 is 9.634002685546875 sec\n",
            "Train Loss:  0.3847 Val Loss:  0.4026\n",
            "Train Acc:  0.9791 Val Acc:  0.9771\n",
            "\n",
            "Time for epoch 15 is 9.585637092590332 sec\n",
            "Train Loss:  0.3609 Val Loss:  0.3559\n",
            "Train Acc:  0.9807 Val Acc:  0.9797\n",
            "\n",
            "Time for epoch 16 is 9.609237432479858 sec\n",
            "Train Loss:  0.3409 Val Loss:  0.3453\n",
            "Train Acc:  0.9812 Val Acc:  0.9807\n",
            "\n",
            "Time for epoch 17 is 9.680673837661743 sec\n",
            "Train Loss:  0.3241 Val Loss:  0.3371\n",
            "Train Acc:  0.9824 Val Acc:  0.9813\n",
            "\n",
            "Time for epoch 18 is 9.574593782424927 sec\n",
            "Train Loss:  0.3084 Val Loss:  0.3243\n",
            "Train Acc:  0.9831 Val Acc:  0.9819\n",
            "\n",
            "Time for epoch 19 is 9.59595513343811 sec\n",
            "Train Loss:  0.2940 Val Loss:  0.3191\n",
            "Train Acc:  0.9841 Val Acc:  0.9823\n",
            "\n",
            "Time for epoch 20 is 9.58124589920044 sec\n",
            "Train Loss:  0.2794 Val Loss:  0.3108\n",
            "Train Acc:  0.9849 Val Acc:  0.9832\n",
            "\n",
            "Time for epoch 21 is 9.623741149902344 sec\n",
            "Train Loss:  0.2750 Val Loss:  0.2963\n",
            "Train Acc:  0.9849 Val Acc:  0.9835\n",
            "\n",
            "Time for epoch 22 is 9.63865065574646 sec\n",
            "Train Loss:  0.2604 Val Loss:  0.3099\n",
            "Train Acc:  0.9859 Val Acc:  0.9827\n",
            "\n",
            "Time for epoch 23 is 9.625805616378784 sec\n",
            "Train Loss:  0.2503 Val Loss:  0.2815\n",
            "Train Acc:  0.9865 Val Acc:  0.9841\n",
            "\n",
            "Time for epoch 24 is 9.582889318466187 sec\n",
            "Train Loss:  0.2437 Val Loss:  0.2851\n",
            "Train Acc:  0.9866 Val Acc:  0.9833\n",
            "\n",
            "Time for epoch 25 is 9.551408767700195 sec\n",
            "Train Loss:  0.2380 Val Loss:  0.2883\n",
            "Train Acc:  0.9870 Val Acc:  0.9837\n"
          ],
          "name": "stdout"
        },
        {
          "output_type": "execute_result",
          "data": {
            "text/plain": [
              "Text(0.5, 1.0, 'model loss IDE')"
            ]
          },
          "metadata": {
            "tags": []
          },
          "execution_count": 7
        },
        {
          "output_type": "display_data",
          "data": {
            "image/png": "[encoded data removed]",
            "text/plain": [
              "<Figure size 432x288 with 1 Axes>"
            ]
          },
          "metadata": {
            "tags": [],
            "needs_background": "light"
          }
        }
      ]
    },
    {
      "cell_type": "markdown",
      "metadata": {
        "id": "streaming-climate"
      },
      "source": [
        "Train IDE one more time with first 10k x_train_bar data  "
      ],
      "id": "streaming-climate"
    },
    {
      "cell_type": "markdown",
      "metadata": {
        "id": "crude-opera"
      },
      "source": [
        "Let grad-cam better then follow the paper"
      ],
      "id": "crude-opera"
    },
    {
      "cell_type": "code",
      "metadata": {
        "colab": {
          "base_uri": "https://localhost:8080/",
          "height": 1000
        },
        "id": "informed-reality",
        "outputId": "b9dbfdc1-55df-437a-e437-3888bcc868d9"
      },
      "source": [
        "def make_gradcam_heatmap(img_array):\n",
        "    \n",
        "    with tf.GradientTape() as tape:\n",
        "        # Compute activations of the last conv layer and make the tape watch it\n",
        "        last_conv_layer_output, f = struc.enc_model(img_array)\n",
        "        \n",
        "        # Compute class predictions\n",
        "        preds = struc.ide_model(f)\n",
        "        \n",
        "        top_pred_index = tf.argmax(preds[0])\n",
        "        top_class_channel = preds[:,top_pred_index]\n",
        "        \n",
        "    # This is the gradient of the top predicted class with regard to\n",
        "    # the output feature map of the last conv layer\n",
        "    grads = tape.gradient(top_class_channel, last_conv_layer_output)\n",
        "    # This is a vector where each entry is the mean intensity of the gradient\n",
        "    # over a specific feature map channel\n",
        "    pooled_grads = tf.reduce_mean(grads, axis=(0, 1, 2))\n",
        "    # We multiply each channel in the feature map array\n",
        "    # by \"how important this channel is\" with regard to the top predicted class\n",
        "    last_conv_layer_output = last_conv_layer_output.numpy()[0]\n",
        "    pooled_grads = pooled_grads.numpy()\n",
        "    for i in range(pooled_grads.shape[-1]):\n",
        "        last_conv_layer_output[:, :, i] *= pooled_grads[i]\n",
        "\n",
        "    # The channel-wise mean of the resulting feature map\n",
        "    # is our heatmap of class activation\n",
        "    heatmap = np.mean(last_conv_layer_output, axis=-1)\n",
        "    # For visualization purpose, we will also normalize the heatmap between 0 & 1\n",
        "    heatmap = np.maximum(heatmap, 0) / np.max(heatmap)\n",
        "    return heatmap\n",
        "\n",
        "def img_bar(x_train=x_train):\n",
        "    x_train_bar=[]\n",
        "    for img in x_train[:10000]:\n",
        "        img_array = img.reshape(1, 28, 28, 3)\n",
        "        heatmap = make_gradcam_heatmap(img_array)\n",
        "        heatmap = np.uint8(255 * heatmap)\n",
        "        jet = cm.get_cmap(\"jet\")\n",
        "\n",
        "    # We use RGB values of the colormap\n",
        "        jet_colors = jet(np.arange(256))[:, :3]\n",
        "        jet_heatmap = jet_colors[heatmap]\n",
        "\n",
        "    # We create an image with RGB colorized heatmap\n",
        "    #jet_heatmap = keras.preprocessing.image.array_to_img(jet_heatmap)\n",
        "        jet_heatmap = cv2.resize(jet_heatmap,(img.shape[1], img.shape[0]))\n",
        "\n",
        "        beta = np.mean(jet_heatmap) \n",
        "        alpha = np.std(jet_heatmap)\n",
        "        sigma = 1 /(1 + np.exp(-alpha*(jet_heatmap-beta)))\n",
        "        img_bar = np.multiply(img, -(sigma-1)**3)\n",
        "        x_train_bar.append(img_bar)\n",
        "        \n",
        "    x_train_bar = np.array(x_train_bar)\n",
        "    return x_train_bar\n",
        "\n",
        "\n",
        "x_train_bar = img_bar(x_train)\n",
        "y_train_bar = y_train[:10000]\n",
        "\n",
        "x_test_bar = img_bar(x_test)\n",
        "\n",
        "train_bar_datasets = tf.data.Dataset.from_tensor_slices((x_train_bar, y_train_bar)).batch(batch_size).shuffle(buffer_size=x_train_bar.shape[0])\n",
        "test_bar_datasets = tf.data.Dataset.from_tensor_slices((x_test_bar, y_test)).batch(batch_size).shuffle(buffer_size=x_test.shape[0])\n",
        "\n",
        "tr_L_avg = []\n",
        "val_L_avg = []\n",
        "for epoch in range(epochs):\n",
        "    tr_L = []\n",
        "    tr_Acc = []\n",
        "    \n",
        "    val_L = []\n",
        "    val_Acc = []\n",
        "    \n",
        "    start = time.time()\n",
        "\n",
        "    # train\n",
        "    for image_batch, label_batch in train_bar_datasets:\n",
        "        loss, pred = IDE_train_step2(image_batch, label_batch)\n",
        "        acc = 1-accuracy_score(tf.argmax(label_batch, 1), tf.argmax(pred, 1).numpy())\n",
        "        tr_L.append(loss)\n",
        "        tr_Acc.append(acc)\n",
        "\n",
        "    # valdation\n",
        "    for image_batch, label_batch in test_bar_datasets:\n",
        "        val_loss, val_pred = IDE_test_step2(image_batch, label_batch)\n",
        "        val_acc = 1-accuracy_score(tf.argmax(label_batch, 1), tf.argmax(val_pred, 1).numpy())\n",
        "        val_L.append(val_loss)\n",
        "        val_Acc.append(val_acc)\n",
        "        \n",
        "    # show loss per epoch\n",
        "    print('\\nTime for epoch {} is {} sec'.format(epoch + 1, time.time() - start))\n",
        "    print('Train Loss: ', '%.4f' % np.mean(tr_L), 'Val Loss: ', '%.4f' % np.mean(val_L))\n",
        "    print('Train Acc: ', '%.4f' % np.mean(tr_Acc), 'Val Acc: ', '%.4f' % np.mean(val_Acc))\n",
        "    \n",
        "    tr_L_avg.append(np.mean(tr_L))\n",
        "    val_L_avg.append(np.mean(val_L))\n",
        "\n",
        "plt.plot(tr_L_avg, label='Train')\n",
        "plt.plot(val_L_avg, label='Val')\n",
        "plt.title('model loss after 25 epochs')"
      ],
      "id": "informed-reality",
      "execution_count": null,
      "outputs": [
        {
          "output_type": "stream",
          "text": [
            "\n",
            "Time for epoch 1 is 2.5202414989471436 sec\n",
            "Train Loss:  0.1713 Val Loss:  0.1175\n",
            "Train Acc:  0.1247 Val Acc:  0.4083\n",
            "\n",
            "Time for epoch 2 is 2.52793025970459 sec\n",
            "Train Loss:  0.0988 Val Loss:  0.0895\n",
            "Train Acc:  0.6278 Val Acc:  0.7195\n",
            "\n",
            "Time for epoch 3 is 2.553009033203125 sec\n",
            "Train Loss:  0.0843 Val Loss:  0.0808\n",
            "Train Acc:  0.7614 Val Acc:  0.7937\n",
            "\n",
            "Time for epoch 4 is 2.535728931427002 sec\n",
            "Train Loss:  0.0782 Val Loss:  0.0759\n",
            "Train Acc:  0.8239 Val Acc:  0.8558\n",
            "\n",
            "Time for epoch 5 is 2.564023017883301 sec\n",
            "Train Loss:  0.0745 Val Loss:  0.0731\n",
            "Train Acc:  0.8710 Val Acc:  0.8884\n",
            "\n",
            "Time for epoch 6 is 2.557925224304199 sec\n",
            "Train Loss:  0.0725 Val Loss:  0.0716\n",
            "Train Acc:  0.8920 Val Acc:  0.8969\n",
            "\n",
            "Time for epoch 7 is 2.5290603637695312 sec\n",
            "Train Loss:  0.0713 Val Loss:  0.0707\n",
            "Train Acc:  0.8960 Val Acc:  0.8985\n",
            "\n",
            "Time for epoch 8 is 2.524934768676758 sec\n",
            "Train Loss:  0.0707 Val Loss:  0.0703\n",
            "Train Acc:  0.8967 Val Acc:  0.8988\n",
            "\n",
            "Time for epoch 9 is 2.5544776916503906 sec\n",
            "Train Loss:  0.0703 Val Loss:  0.0699\n",
            "Train Acc:  0.8968 Val Acc:  0.8989\n",
            "\n",
            "Time for epoch 10 is 2.5411171913146973 sec\n",
            "Train Loss:  0.0700 Val Loss:  0.0697\n",
            "Train Acc:  0.8968 Val Acc:  0.8989\n",
            "\n",
            "Time for epoch 11 is 3.576421022415161 sec\n",
            "Train Loss:  0.0699 Val Loss:  0.0696\n",
            "Train Acc:  0.8968 Val Acc:  0.8990\n",
            "\n",
            "Time for epoch 12 is 2.5363903045654297 sec\n",
            "Train Loss:  0.0697 Val Loss:  0.0695\n",
            "Train Acc:  0.8968 Val Acc:  0.8990\n",
            "\n",
            "Time for epoch 13 is 2.5396924018859863 sec\n",
            "Train Loss:  0.0697 Val Loss:  0.0694\n",
            "Train Acc:  0.8968 Val Acc:  0.8990\n",
            "\n",
            "Time for epoch 14 is 2.5298759937286377 sec\n",
            "Train Loss:  0.0696 Val Loss:  0.0694\n",
            "Train Acc:  0.8968 Val Acc:  0.8990\n",
            "\n",
            "Time for epoch 15 is 2.519472122192383 sec\n",
            "Train Loss:  0.0695 Val Loss:  0.0693\n",
            "Train Acc:  0.8968 Val Acc:  0.8990\n",
            "\n",
            "Time for epoch 16 is 2.533200740814209 sec\n",
            "Train Loss:  0.0695 Val Loss:  0.0693\n",
            "Train Acc:  0.8968 Val Acc:  0.8990\n",
            "\n",
            "Time for epoch 17 is 2.5508015155792236 sec\n",
            "Train Loss:  0.0695 Val Loss:  0.0693\n",
            "Train Acc:  0.8968 Val Acc:  0.8990\n",
            "\n",
            "Time for epoch 18 is 2.530177593231201 sec\n",
            "Train Loss:  0.0694 Val Loss:  0.0692\n",
            "Train Acc:  0.8968 Val Acc:  0.8990\n",
            "\n",
            "Time for epoch 19 is 2.506397247314453 sec\n",
            "Train Loss:  0.0694 Val Loss:  0.0692\n",
            "Train Acc:  0.8968 Val Acc:  0.8990\n",
            "\n",
            "Time for epoch 20 is 2.524747133255005 sec\n",
            "Train Loss:  0.0694 Val Loss:  0.0692\n",
            "Train Acc:  0.8968 Val Acc:  0.8990\n",
            "\n",
            "Time for epoch 21 is 2.594174385070801 sec\n",
            "Train Loss:  0.0694 Val Loss:  0.0692\n",
            "Train Acc:  0.8968 Val Acc:  0.8990\n",
            "\n",
            "Time for epoch 22 is 2.591963768005371 sec\n",
            "Train Loss:  0.0694 Val Loss:  0.0692\n",
            "Train Acc:  0.8968 Val Acc:  0.8990\n",
            "\n",
            "Time for epoch 23 is 2.5633373260498047 sec\n",
            "Train Loss:  0.0694 Val Loss:  0.0692\n",
            "Train Acc:  0.8968 Val Acc:  0.8990\n",
            "\n",
            "Time for epoch 24 is 2.576446294784546 sec\n",
            "Train Loss:  0.0693 Val Loss:  0.0691\n",
            "Train Acc:  0.8968 Val Acc:  0.8990\n",
            "\n",
            "Time for epoch 25 is 2.580695629119873 sec\n",
            "Train Loss:  0.0693 Val Loss:  0.0691\n",
            "Train Acc:  0.8968 Val Acc:  0.8990\n"
          ],
          "name": "stdout"
        },
        {
          "output_type": "execute_result",
          "data": {
            "text/plain": [
              "Text(0.5, 1.0, 'model loss after 25 epochs')"
            ]
          },
          "metadata": {
            "tags": []
          },
          "execution_count": 8
        },
        {
          "output_type": "display_data",
          "data": {
            "image/png": "[encoded data removed]",
            "text/plain": [
              "<Figure size 432x288 with 1 Axes>"
            ]
          },
          "metadata": {
            "tags": [],
            "needs_background": "light"
          }
        }
      ]
    },
    {
      "cell_type": "markdown",
      "metadata": {
        "id": "simple-atmosphere"
      },
      "source": [
        "create data for bce"
      ],
      "id": "simple-atmosphere"
    },
    {
      "cell_type": "code",
      "metadata": {
        "id": "general-piano"
      },
      "source": [
        "y_train = np.argmax(y_train, axis=-1)"
      ],
      "id": "general-piano",
      "execution_count": null,
      "outputs": []
    },
    {
      "cell_type": "code",
      "metadata": {
        "id": "demanding-giving"
      },
      "source": [
        "#first 5000 pairs are same\n",
        "#last 5000 pairs are diff\n",
        "A=[]\n",
        "B=[]\n",
        "for i in range(10):\n",
        "    idx = np.where(y_train == i)[0]\n",
        "    np.random.shuffle(idx)\n",
        "    for index1, index2 in zip(idx[:500],idx[-500:]):\n",
        "        A.append(x_train[index1])\n",
        "        B.append(x_train[index2])\n",
        "A = np.array(A)\n",
        "B = np.array(B)"
      ],
      "id": "demanding-giving",
      "execution_count": null,
      "outputs": []
    },
    {
      "cell_type": "code",
      "metadata": {
        "id": "lightweight-lambda"
      },
      "source": [
        "C=[]\n",
        "D=[]\n",
        "for i in range(10):\n",
        "    idx   = np.where(y_train == i)[0]\n",
        "    idx__ = np.where(y_train != i)[0]\n",
        "    np.random.shuffle(idx)\n",
        "    np.random.shuffle(idx__)\n",
        "    for index1, index2 in zip(idx[:500],idx__[:500]):\n",
        "        C.append(x_train[index1])\n",
        "        D.append(x_train[index2])\n",
        "C = np.array(C)\n",
        "D = np.array(D)"
      ],
      "id": "lightweight-lambda",
      "execution_count": null,
      "outputs": []
    },
    {
      "cell_type": "code",
      "metadata": {
        "id": "applied-session"
      },
      "source": [
        "I1 = np.vstack((A,C))\n",
        "I2 = np.vstack((B,D))"
      ],
      "id": "applied-session",
      "execution_count": null,
      "outputs": []
    },
    {
      "cell_type": "code",
      "metadata": {
        "id": "funky-hospital"
      },
      "source": [
        "first_5000 = np.ones(5000)\n",
        "last_5000 = np.zeros(5000)\n",
        "f_minus_label = np.hstack((first_5000, last_5000))"
      ],
      "id": "funky-hospital",
      "execution_count": null,
      "outputs": []
    },
    {
      "cell_type": "code",
      "metadata": {
        "colab": {
          "base_uri": "https://localhost:8080/",
          "height": 1000
        },
        "id": "distant-mustang",
        "outputId": "9bf6a234-1f91-41b8-e75c-cbde95d65693"
      },
      "source": [
        "trainable_layers_name = ['bce_dense1', 'bce_dense2', 'bce_dense3', 'bce_outputs']\n",
        "\n",
        "for layer in struc.layers:\n",
        "    if layer.name in trainable_layers_name:\n",
        "        layer.trainable = True\n",
        "    else:\n",
        "        layer.trainable = False\n",
        "    print(f'{layer.name} >> trainable:', layer.trainable, '\\n')\n",
        "\n",
        "struc.summary()\n",
        "\n",
        "optimizer_bce = Adam()\n",
        "checkpoint_bce = tf.train.Checkpoint(optimizer=optimizer_bce, model=struc)\n",
        "loss_bce = SparseCategoricalCrossentropy()\n",
        "\n",
        "epochs = 25\n",
        "batch_size = 50\n",
        "\n",
        "train_datasets = tf.data.Dataset.from_tensor_slices((I1, I2, f_minus_label)).batch(batch_size).shuffle(buffer_size=I1.shape[0])\n",
        "\n",
        "def BCE_train_step(x, y):\n",
        "    with tf.GradientTape() as tape:\n",
        "        _, f1 = struc.enc_model(x[0])\n",
        "        _, f2 = struc.enc_model(x[1])\n",
        "        fsub = tf.math.subtract(f1, f2)\n",
        "        fsub = tf.reshape(fsub, [fsub.get_shape()[0], 3136])\n",
        "        pred = struc.bce_model(fsub)\n",
        "        loss = loss_bce(y, pred)\n",
        "    grads = tape.gradient(loss, struc.trainable_variables)\n",
        "    optimizer_bce.apply_gradients(zip(grads, struc.trainable_variables))\n",
        "    return loss, pred\n",
        "\n",
        "tr_L_avg = []\n",
        "for epoch in range(epochs):\n",
        "    tr_L = []\n",
        "    tr_Acc = []\n",
        "    \n",
        "    start = time.time()\n",
        "\n",
        "    # train\n",
        "    for x1_batch, x2_batch, label_batch in train_datasets:\n",
        "        loss, pred = BCE_train_step([x1_batch, x2_batch], label_batch)\n",
        "        acc = accuracy_score(label_batch, tf.argmax(pred, 1).numpy())\n",
        "        tr_L.append(loss)\n",
        "        tr_Acc.append(acc)\n",
        "     \n",
        "    # show loss per epoch\n",
        "    print('\\nTime for epoch {} is {} sec'.format(epoch + 1, time.time() - start))\n",
        "    print('Train Loss: ', '%.4f' % np.mean(tr_L))\n",
        "    print('Train Acc: ', '%.4f' % np.mean(tr_Acc))\n",
        "    \n",
        "    tr_L_avg.append(np.mean(tr_L))\n",
        "\n",
        "plt.plot(tr_L_avg, label='Train')\n",
        "plt.title('model loss bce')"
      ],
      "id": "distant-mustang",
      "execution_count": null,
      "outputs": [
        {
          "output_type": "stream",
          "text": [
            "enc_conv1 >> trainable: False \n",
            "\n",
            "enc_pool1 >> trainable: False \n",
            "\n",
            "enc_conv2 >> trainable: False \n",
            "\n",
            "enc_pool2 >> trainable: False \n",
            "\n",
            "flatten >> trainable: False \n",
            "\n",
            "ide_outputs >> trainable: False \n",
            "\n",
            "bce_dense1 >> trainable: True \n",
            "\n",
            "bce_dense2 >> trainable: True \n",
            "\n",
            "bce_dense3 >> trainable: True \n",
            "\n",
            "bce_outputs >> trainable: True \n",
            "\n",
            "Model: \"structure\"\n",
            "_________________________________________________________________\n",
            "Layer (type)                 Output Shape              Param #   \n",
            "=================================================================\n",
            "enc_conv1 (Conv2D)           multiple                  896       \n",
            "_________________________________________________________________\n",
            "enc_pool1 (MaxPooling2D)     multiple                  0         \n",
            "_________________________________________________________________\n",
            "enc_conv2 (Conv2D)           multiple                  18496     \n",
            "_________________________________________________________________\n",
            "enc_pool2 (MaxPooling2D)     multiple                  0         \n",
            "_________________________________________________________________\n",
            "flatten (Flatten)            multiple                  0         \n",
            "_________________________________________________________________\n",
            "ide_outputs (Dense)          multiple                  31370     \n",
            "_________________________________________________________________\n",
            "bce_dense1 (Dense)           multiple                  1568500   \n",
            "_________________________________________________________________\n",
            "bce_dense2 (Dense)           multiple                  50100     \n",
            "_________________________________________________________________\n",
            "bce_dense3 (Dense)           multiple                  1010      \n",
            "_________________________________________________________________\n",
            "bce_outputs (Dense)          multiple                  22        \n",
            "=================================================================\n",
            "Total params: 1,670,394\n",
            "Trainable params: 1,619,632\n",
            "Non-trainable params: 50,762\n",
            "_________________________________________________________________\n",
            "\n",
            "Time for epoch 1 is 3.582732915878296 sec\n",
            "Train Loss:  1.0650\n",
            "Train Acc:  0.5335\n",
            "\n",
            "Time for epoch 2 is 3.3494012355804443 sec\n",
            "Train Loss:  0.6103\n",
            "Train Acc:  0.6619\n",
            "\n",
            "Time for epoch 3 is 3.3489179611206055 sec\n",
            "Train Loss:  0.5287\n",
            "Train Acc:  0.7360\n",
            "\n",
            "Time for epoch 4 is 3.3246665000915527 sec\n",
            "Train Loss:  0.4531\n",
            "Train Acc:  0.7958\n",
            "\n",
            "Time for epoch 5 is 3.354114055633545 sec\n",
            "Train Loss:  0.3914\n",
            "Train Acc:  0.8285\n",
            "\n",
            "Time for epoch 6 is 5.209225416183472 sec\n",
            "Train Loss:  0.3428\n",
            "Train Acc:  0.8581\n",
            "\n",
            "Time for epoch 7 is 3.368708610534668 sec\n",
            "Train Loss:  0.3101\n",
            "Train Acc:  0.8729\n",
            "\n",
            "Time for epoch 8 is 3.424253463745117 sec\n",
            "Train Loss:  0.2648\n",
            "Train Acc:  0.8927\n",
            "\n",
            "Time for epoch 9 is 3.419187545776367 sec\n",
            "Train Loss:  0.2399\n",
            "Train Acc:  0.9046\n",
            "\n",
            "Time for epoch 10 is 3.38850998878479 sec\n",
            "Train Loss:  0.2020\n",
            "Train Acc:  0.9183\n",
            "\n",
            "Time for epoch 11 is 3.35151743888855 sec\n",
            "Train Loss:  0.1630\n",
            "Train Acc:  0.9391\n",
            "\n",
            "Time for epoch 12 is 3.360304117202759 sec\n",
            "Train Loss:  0.1195\n",
            "Train Acc:  0.9551\n",
            "\n",
            "Time for epoch 13 is 3.316145896911621 sec\n",
            "Train Loss:  0.1466\n",
            "Train Acc:  0.9446\n",
            "\n",
            "Time for epoch 14 is 3.342071056365967 sec\n",
            "Train Loss:  0.1043\n",
            "Train Acc:  0.9598\n",
            "\n",
            "Time for epoch 15 is 3.34753155708313 sec\n",
            "Train Loss:  0.0864\n",
            "Train Acc:  0.9671\n",
            "\n",
            "Time for epoch 16 is 3.360775947570801 sec\n",
            "Train Loss:  0.0863\n",
            "Train Acc:  0.9681\n",
            "\n",
            "Time for epoch 17 is 3.354830265045166 sec\n",
            "Train Loss:  0.0590\n",
            "Train Acc:  0.9794\n",
            "\n",
            "Time for epoch 18 is 3.3518011569976807 sec\n",
            "Train Loss:  0.0557\n",
            "Train Acc:  0.9813\n",
            "\n",
            "Time for epoch 19 is 3.351541042327881 sec\n",
            "Train Loss:  0.0420\n",
            "Train Acc:  0.9858\n",
            "\n",
            "Time for epoch 20 is 3.3442156314849854 sec\n",
            "Train Loss:  0.0901\n",
            "Train Acc:  0.9660\n",
            "\n",
            "Time for epoch 21 is 3.4101340770721436 sec\n",
            "Train Loss:  0.0572\n",
            "Train Acc:  0.9801\n",
            "\n",
            "Time for epoch 22 is 3.390911102294922 sec\n",
            "Train Loss:  0.0565\n",
            "Train Acc:  0.9803\n",
            "\n",
            "Time for epoch 23 is 3.314890146255493 sec\n",
            "Train Loss:  0.0414\n",
            "Train Acc:  0.9865\n",
            "\n",
            "Time for epoch 24 is 3.34489107131958 sec\n",
            "Train Loss:  0.0074\n",
            "Train Acc:  0.9980\n",
            "\n",
            "Time for epoch 25 is 3.342177152633667 sec\n",
            "Train Loss:  0.0366\n",
            "Train Acc:  0.9875\n"
          ],
          "name": "stdout"
        },
        {
          "output_type": "execute_result",
          "data": {
            "text/plain": [
              "Text(0.5, 1.0, 'model loss bce')"
            ]
          },
          "metadata": {
            "tags": []
          },
          "execution_count": 14
        },
        {
          "output_type": "display_data",
          "data": {
            "image/png": "[encoded data removed]",
            "text/plain": [
              "<Figure size 432x288 with 1 Axes>"
            ]
          },
          "metadata": {
            "tags": [],
            "needs_background": "light"
          }
        }
      ]
    },
    {
      "cell_type": "markdown",
      "metadata": {
        "id": "dressed-modern"
      },
      "source": [
        "Testing result (3rd time with bce)"
      ],
      "id": "dressed-modern"
    },
    {
      "cell_type": "code",
      "metadata": {
        "id": "trained-acceptance"
      },
      "source": [
        "def bce_gradcam_heatmap(img1,img2):\n",
        "    \n",
        "    max_pool_2d = MaxPooling2D(pool_size=(2, 2))\n",
        "\n",
        "    with tf.GradientTape() as tape1, tf.GradientTape() as tape2:\n",
        "        \n",
        "        with tf.GradientTape() as tape:\n",
        "            \n",
        "            A1, _ = struc.enc_model(np.reshape(img1, (1, 28, 28, 3)))\n",
        "            A2, _ = struc.enc_model(np.reshape(img2, (1, 28, 28, 3)))\n",
        "            \n",
        "            f1 = max_pool_2d(A1)\n",
        "            f2 = max_pool_2d(A2)\n",
        "            \n",
        "            f1 = tf.reshape(f1, [1, -1])\n",
        "            f2 = tf.reshape(f2, [1, -1])\n",
        "            \n",
        "            fsub = tf.math.subtract(f1, f2)\n",
        "            \n",
        "            # Compute class predictions\n",
        "            preds = struc.bce_model(fsub)\n",
        "            top_pred_index = tf.argmax(preds[0])\n",
        "            top_class_channel = preds[:,top_pred_index]\n",
        "\n",
        "        # This is the gradient of the top predicted class with regard to\n",
        "        # the output feature map of the last conv layer\n",
        "        grads = tape.gradient(top_class_channel, fsub)   #partial z/ partial f-\n",
        "        # This is a vector where each entry is the mean intensity of the gradient\n",
        "        # over a specific feature map channel\n",
        "        grads = grads.numpy()\n",
        "        alpha = np.zeros(grads.shape[1])\n",
        "        for i in range(grads.shape[1]):\n",
        "                alpha[i] = tf.math.reduce_max([0, grads[0][i]]) \n",
        "        alpha = np.reshape(alpha,(1, 3136))        \n",
        "\n",
        "        s1 = Dot(axes=1)([alpha, f1])\n",
        "        s2 = Dot(axes=1)([alpha, f2])\n",
        "           \n",
        "    alpha1 = tape1.gradient(s1,A1)\n",
        "    alpha2 = tape2.gradient(s2,A2)\n",
        "\n",
        "        # We multiply each channel in the feature map array\n",
        "        # by \"how important this channel is\" with regard to the top predicted class\n",
        "\n",
        "    alpha1 = GlobalAveragePooling2D()(alpha1)\n",
        "    alpha2 = GlobalAveragePooling2D()(alpha2)\n",
        "\n",
        "    # The channel-wise mean of the resulting feature map\n",
        "    # is our heatmap of class activation\n",
        "    heatmap1 = np.mean(A1, axis=-1)\n",
        "    heatmap2 = np.mean(A2, axis=-1)\n",
        "    \n",
        "    # For visualization purpose, we will also normalize the heatmap between 0 & 1\n",
        "    heatmap1 = np.maximum(heatmap1, 0) / np.max(heatmap1)\n",
        "    heatmap2 = np.maximum(heatmap2, 0) / np.max(heatmap2)\n",
        "    return heatmap1, heatmap2"
      ],
      "id": "trained-acceptance",
      "execution_count": null,
      "outputs": []
    },
    {
      "cell_type": "code",
      "metadata": {
        "id": "illegal-ontario"
      },
      "source": [
        "heatmap1, heatmap2 = bce_gradcam_heatmap(x_train[12], x_train[4471])"
      ],
      "id": "illegal-ontario",
      "execution_count": null,
      "outputs": []
    },
    {
      "cell_type": "code",
      "metadata": {
        "colab": {
          "base_uri": "https://localhost:8080/",
          "height": 1000
        },
        "id": "sonic-scale",
        "outputId": "49f134b1-8e40-488f-fc22-cd335a60a273"
      },
      "source": [
        "plt.matshow(heatmap1[0])\n",
        "heatmap1"
      ],
      "id": "sonic-scale",
      "execution_count": null,
      "outputs": [
        {
          "output_type": "execute_result",
          "data": {
            "text/plain": [
              "array([[[0.01204427, 0.01580346, 0.01580346, 0.01580346, 0.01580346,\n",
              "         0.01580346, 0.01580346, 0.01580346, 0.01580346, 0.01580346,\n",
              "         0.01580346, 0.01580346, 0.01580346, 0.01205971],\n",
              "        [0.06149691, 0.16191146, 0.21797836, 0.25379843, 0.2581301 ,\n",
              "         0.2483205 , 0.22877222, 0.18625756, 0.12821192, 0.06446206,\n",
              "         0.02313232, 0.02007178, 0.02007178, 0.01481536],\n",
              "        [0.21610723, 0.50618017, 0.6490752 , 0.7318131 , 0.7415058 ,\n",
              "         0.7110098 , 0.70404965, 0.64419824, 0.46512064, 0.2917297 ,\n",
              "         0.10440569, 0.02007178, 0.02007178, 0.01481536],\n",
              "        [0.27673542, 0.70707744, 0.86543775, 0.9174268 , 0.90216225,\n",
              "         0.85878074, 0.8475787 , 0.87986916, 0.724088  , 0.49719837,\n",
              "         0.18810067, 0.02007178, 0.02007178, 0.01481536],\n",
              "        [0.27326876, 0.6250305 , 0.7710245 , 0.83777255, 0.7838581 ,\n",
              "         0.7144972 , 0.62838155, 0.71050406, 0.7784972 , 0.5778367 ,\n",
              "         0.21125792, 0.02007178, 0.02007178, 0.01481536],\n",
              "        [0.10821917, 0.24852908, 0.32651153, 0.30848742, 0.3854426 ,\n",
              "         0.5797245 , 0.7477449 , 0.7880474 , 0.64657634, 0.4004285 ,\n",
              "         0.13449843, 0.04894501, 0.01997036, 0.01481536],\n",
              "        [0.01512544, 0.02007178, 0.02007178, 0.06733747, 0.47560215,\n",
              "         0.9033301 , 0.9568349 , 0.9025721 , 0.74260634, 0.53383577,\n",
              "         0.39025053, 0.2289925 , 0.06689252, 0.01481536],\n",
              "        [0.01512544, 0.02007178, 0.02007178, 0.07571647, 0.46015272,\n",
              "         0.83803487, 0.9433615 , 1.        , 0.96993273, 0.91290027,\n",
              "         0.68103415, 0.41170093, 0.15956686, 0.01481536],\n",
              "        [0.01512544, 0.02007178, 0.03151952, 0.11986267, 0.21983887,\n",
              "         0.3832596 , 0.5781158 , 0.792583  , 0.9501511 , 0.9130137 ,\n",
              "         0.7799757 , 0.5246612 , 0.19721572, 0.01481536],\n",
              "        [0.01512544, 0.02007178, 0.16091198, 0.40388003, 0.45045817,\n",
              "         0.33910403, 0.19435343, 0.38154015, 0.6545085 , 0.78375065,\n",
              "         0.78745115, 0.5658264 , 0.20872137, 0.01481536],\n",
              "        [0.01512544, 0.02007178, 0.26447785, 0.7084509 , 0.803202  ,\n",
              "         0.601467  , 0.5329668 , 0.68538266, 0.83235013, 0.8614378 ,\n",
              "         0.7960734 , 0.53769404, 0.16485918, 0.01481536],\n",
              "        [0.01512544, 0.02007178, 0.28446   , 0.74817246, 0.9083646 ,\n",
              "         0.8833762 , 0.8591509 , 0.89228636, 0.9278779 , 0.89390934,\n",
              "         0.74800926, 0.3582496 , 0.07233037, 0.01481536],\n",
              "        [0.01512544, 0.02007178, 0.18940626, 0.5517496 , 0.77726555,\n",
              "         0.86015034, 0.88297427, 0.8979473 , 0.8831876 , 0.7082147 ,\n",
              "         0.39125976, 0.11980338, 0.02225778, 0.01481536],\n",
              "        [0.01164264, 0.0146476 , 0.04156447, 0.18715878, 0.36255366,\n",
              "         0.47519243, 0.50747025, 0.48129827, 0.374246  , 0.20359683,\n",
              "         0.06697093, 0.01687286, 0.0146476 , 0.01080826]]], dtype=float32)"
            ]
          },
          "metadata": {
            "tags": []
          },
          "execution_count": 55
        },
        {
          "output_type": "display_data",
          "data": {
            "image/png": "[encoded data removed]",
            "text/plain": [
              "<Figure size 288x288 with 1 Axes>"
            ]
          },
          "metadata": {
            "tags": [],
            "needs_background": "light"
          }
        }
      ]
    },
    {
      "cell_type": "code",
      "metadata": {
        "colab": {
          "base_uri": "https://localhost:8080/",
          "height": 1000
        },
        "id": "latter-segment",
        "outputId": "70ac7bec-fa71-4eae-d89e-9b27a841cf2e"
      },
      "source": [
        "plt.matshow(heatmap2[0])\n",
        "heatmap2"
      ],
      "id": "latter-segment",
      "execution_count": null,
      "outputs": [
        {
          "output_type": "execute_result",
          "data": {
            "text/plain": [
              "array([[[0.01242818, 0.0163072 , 0.0163072 , 0.0163072 , 0.0163072 ,\n",
              "         0.0163072 , 0.0163072 , 0.0163072 , 0.0163072 , 0.0163072 ,\n",
              "         0.0163072 , 0.0163072 , 0.0163072 , 0.01244412],\n",
              "        [0.01560757, 0.0216377 , 0.0401177 , 0.07091544, 0.08324426,\n",
              "         0.0868536 , 0.06804369, 0.04537946, 0.02163315, 0.02071158,\n",
              "         0.02071158, 0.02071158, 0.02071158, 0.01528761],\n",
              "        [0.06242817, 0.21601145, 0.33641902, 0.44017437, 0.49183574,\n",
              "         0.4959655 , 0.42901203, 0.29101968, 0.17435177, 0.04710779,\n",
              "         0.02071158, 0.02071158, 0.02071158, 0.01528761],\n",
              "        [0.21764812, 0.535294  , 0.72667295, 0.842906  , 0.8922299 ,\n",
              "         0.9054746 , 0.8869015 , 0.63963616, 0.39223504, 0.1315788 ,\n",
              "         0.02071158, 0.02071158, 0.02071158, 0.01528761],\n",
              "        [0.272392  , 0.6771271 , 0.8385644 , 0.864521  , 0.84010684,\n",
              "         0.7720919 , 0.7966454 , 0.7422678 , 0.48840934, 0.16275108,\n",
              "         0.02042527, 0.02071158, 0.02071158, 0.01528761],\n",
              "        [0.26564735, 0.5755468 , 0.6935502 , 0.72068   , 0.5437385 ,\n",
              "         0.5862171 , 0.75641143, 0.78800756, 0.5175041 , 0.22121747,\n",
              "         0.1389222 , 0.0385117 , 0.02071158, 0.01528761],\n",
              "        [0.09559447, 0.19766578, 0.28747404, 0.64126897, 0.91212267,\n",
              "         0.934021  , 0.9734756 , 0.98305535, 0.79717296, 0.5846551 ,\n",
              "         0.3727713 , 0.17615734, 0.03580849, 0.01528761],\n",
              "        [0.01560757, 0.02071158, 0.25540787, 0.72553915, 0.9068577 ,\n",
              "         0.9135766 , 0.9012725 , 0.99213296, 0.99979645, 0.9050492 ,\n",
              "         0.6087146 , 0.33921134, 0.12775761, 0.01528761],\n",
              "        [0.01560757, 0.02071158, 0.14394751, 0.40854216, 0.604228  ,\n",
              "         0.4633123 , 0.39540368, 0.51824003, 0.72723687, 0.8072558 ,\n",
              "         0.69048566, 0.45573834, 0.20485829, 0.01528761],\n",
              "        [0.01560757, 0.02071158, 0.02316152, 0.23205128, 0.6857264 ,\n",
              "         0.8475198 , 0.7011124 , 0.55530673, 0.5553049 , 0.65121657,\n",
              "         0.6779941 , 0.5597385 , 0.24651965, 0.01528761],\n",
              "        [0.01560757, 0.02071158, 0.02071158, 0.25751677, 0.76405627,\n",
              "         0.9963279 , 1.        , 0.9652106 , 0.91250527, 0.88758504,\n",
              "         0.85565454, 0.6522381 , 0.25818583, 0.01528761],\n",
              "        [0.01560757, 0.02071158, 0.02071158, 0.19374593, 0.6010813 ,\n",
              "         0.84566003, 0.94351554, 0.9600488 , 0.98043495, 0.97048527,\n",
              "         0.85560286, 0.529839  , 0.1678946 , 0.01528761],\n",
              "        [0.01560757, 0.02071158, 0.02071158, 0.05302356, 0.20353976,\n",
              "         0.38274083, 0.51185185, 0.58865005, 0.63205343, 0.5870495 ,\n",
              "         0.40707415, 0.18370435, 0.0471252 , 0.01528761],\n",
              "        [0.01201375, 0.0151145 , 0.0151145 , 0.0151145 , 0.0151145 ,\n",
              "         0.0151145 , 0.01762703, 0.0332241 , 0.04558681, 0.03699784,\n",
              "         0.02193475, 0.0151145 , 0.0151145 , 0.01115278]]], dtype=float32)"
            ]
          },
          "metadata": {
            "tags": []
          },
          "execution_count": 56
        },
        {
          "output_type": "display_data",
          "data": {
            "image/png": "[encoded data removed]",
            "text/plain": [
              "<Figure size 288x288 with 1 Axes>"
            ]
          },
          "metadata": {
            "tags": [],
            "needs_background": "light"
          }
        }
      ]
    },
    {
      "cell_type": "code",
      "metadata": {
        "colab": {
          "base_uri": "https://localhost:8080/",
          "height": 283
        },
        "id": "dietary-patch",
        "outputId": "c22fbe5d-e193-48bf-80ee-a596338e10fe"
      },
      "source": [
        "plt.imshow(x_train[12])"
      ],
      "id": "dietary-patch",
      "execution_count": null,
      "outputs": [
        {
          "output_type": "execute_result",
          "data": {
            "text/plain": [
              "<matplotlib.image.AxesImage at 0x7f84836fa210>"
            ]
          },
          "metadata": {
            "tags": []
          },
          "execution_count": 53
        },
        {
          "output_type": "display_data",
          "data": {
            "image/png": "[encoded data removed]",
            "text/plain": [
              "<Figure size 432x288 with 1 Axes>"
            ]
          },
          "metadata": {
            "tags": [],
            "needs_background": "light"
          }
        }
      ]
    },
    {
      "cell_type": "code",
      "metadata": {
        "colab": {
          "base_uri": "https://localhost:8080/",
          "height": 283
        },
        "id": "xwaST8XJ4YH3",
        "outputId": "9c004b54-102c-417f-c987-1b55a28b50a7"
      },
      "source": [
        "plt.imshow(x_train[4471])"
      ],
      "id": "xwaST8XJ4YH3",
      "execution_count": null,
      "outputs": [
        {
          "output_type": "execute_result",
          "data": {
            "text/plain": [
              "<matplotlib.image.AxesImage at 0x7f848370d690>"
            ]
          },
          "metadata": {
            "tags": []
          },
          "execution_count": 52
        },
        {
          "output_type": "display_data",
          "data": {
            "image/png": "[encoded data removed]",
            "text/plain": [
              "<Figure size 432x288 with 1 Axes>"
            ]
          },
          "metadata": {
            "tags": [],
            "needs_background": "light"
          }
        }
      ]
    },
    {
      "cell_type": "code",
      "metadata": {
        "colab": {
          "base_uri": "https://localhost:8080/"
        },
        "id": "t8WQSdev4dpe",
        "outputId": "544370b7-c0ba-44f8-d30c-8127cc502d1b"
      },
      "source": [
        "I2.shape"
      ],
      "id": "t8WQSdev4dpe",
      "execution_count": null,
      "outputs": [
        {
          "output_type": "execute_result",
          "data": {
            "text/plain": [
              "(10000, 28, 28, 3)"
            ]
          },
          "metadata": {
            "tags": []
          },
          "execution_count": 24
        }
      ]
    },
    {
      "cell_type": "code",
      "metadata": {
        "id": "AnvFfWK85L_Y"
      },
      "source": [
        ""
      ],
      "id": "AnvFfWK85L_Y",
      "execution_count": null,
      "outputs": []
    }
  ]
}