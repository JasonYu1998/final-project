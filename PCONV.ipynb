{
  "nbformat": 4,
  "nbformat_minor": 0,
  "metadata": {
    "colab": {
      "name": "PCONV",
      "provenance": []
    },
    "kernelspec": {
      "name": "python3",
      "display_name": "Python 3"
    },
    "accelerator": "GPU"
  },
  "cells": [
    {
      "cell_type": "code",
      "metadata": {
        "id": "_tBMKJGlhRNi"
      },
      "source": [
        "import os\n",
        "import sys\n",
        "import numpy as np\n",
        "from datetime import datetime\n",
        "\n",
        "import tensorflow as tf\n",
        "from keras.models import Model\n",
        "from keras.models import load_model\n",
        "from keras.optimizers import Adam\n",
        "from keras.layers import Input, Conv2D, UpSampling2D, Dropout, LeakyReLU, BatchNormalization, Activation, Lambda,MaxPooling2D\n",
        "from keras.layers.merge import Concatenate\n",
        "#from keras.applications import VGG16\n",
        "from keras import backend as K\n",
        "\n"
      ],
      "execution_count": null,
      "outputs": []
    },
    {
      "cell_type": "code",
      "metadata": {
        "id": "HML2G4mehtjr"
      },
      "source": [
        "from keras.utils import conv_utils\n",
        "from keras import backend as K\n",
        "from keras.engine.topology import InputSpec\n",
        "from keras.layers import Conv2D\n",
        "\n",
        "\n",
        "class PConv2D(Conv2D):\n",
        "    def __init__(self, *args, n_channels=3, mono=False, **kwargs):\n",
        "        super().__init__(*args, **kwargs)\n",
        "        self.input_spec = [InputSpec(ndim=4), InputSpec(ndim=4)]\n",
        "\n",
        "    def build(self, input_shape):        \n",
        "        \"\"\"Adapted from original _Conv() layer of Keras        \n",
        "        param input_shape: list of dimensions for [img, mask]\n",
        "        \"\"\"\n",
        "        \n",
        "        if self.data_format == 'channels_first':\n",
        "            channel_axis = 1\n",
        "        else:\n",
        "            channel_axis = -1\n",
        "            \n",
        "        if input_shape[0][channel_axis] is None:\n",
        "            raise ValueError('The channel dimension of the inputs should be defined. Found `None`.')\n",
        "            \n",
        "        self.input_dim = input_shape[0][channel_axis]\n",
        "        \n",
        "        # Image kernel\n",
        "        kernel_shape = self.kernel_size + (self.input_dim, self.filters)\n",
        "        self.kernel = self.add_weight(shape=kernel_shape,\n",
        "                                      initializer=self.kernel_initializer,\n",
        "                                      name='img_kernel',\n",
        "                                      regularizer=self.kernel_regularizer,\n",
        "                                      constraint=self.kernel_constraint)\n",
        "        # Mask kernel\n",
        "        self.kernel_mask = K.ones(shape=self.kernel_size + (self.input_dim, self.filters))\n",
        "\n",
        "        # Calculate padding size to achieve zero-padding\n",
        "        self.pconv_padding = (\n",
        "            (int((self.kernel_size[0]-1)/2), int((self.kernel_size[0]-1)/2)), \n",
        "            (int((self.kernel_size[0]-1)/2), int((self.kernel_size[0]-1)/2)), \n",
        "        )\n",
        "\n",
        "        # Window size - used for normalization\n",
        "        self.window_size = self.kernel_size[0] * self.kernel_size[1]\n",
        "        \n",
        "        if self.use_bias:\n",
        "            self.bias = self.add_weight(shape=(self.filters,),\n",
        "                                        initializer=self.bias_initializer,\n",
        "                                        name='bias',\n",
        "                                        regularizer=self.bias_regularizer,\n",
        "                                        constraint=self.bias_constraint)\n",
        "        else:\n",
        "            self.bias = None\n",
        "        self.built = True\n",
        "\n",
        "    def call(self, inputs, mask=None):\n",
        "        '''\n",
        "        We will be using the Keras conv2d method, and essentially we have\n",
        "        to do here is multiply the mask with the input X, before we apply the\n",
        "        convolutions. For the mask itself, we apply convolutions with all weights\n",
        "        set to 1.\n",
        "        Subsequently, we clip mask values to between 0 and 1\n",
        "        ''' \n",
        "\n",
        "        # Both image and mask must be supplied\n",
        "        if type(inputs) is not list or len(inputs) != 2:\n",
        "            raise Exception('PartialConvolution2D must be called on a list of two tensors [img, mask]. Instead got: ' + str(inputs))\n",
        "\n",
        "        # Padding done explicitly so that padding becomes part of the masked partial convolution\n",
        "        images = K.spatial_2d_padding(inputs[0], self.pconv_padding, self.data_format)\n",
        "        masks = K.spatial_2d_padding(inputs[1], self.pconv_padding, self.data_format)\n",
        "\n",
        "        # Apply convolutions to mask\n",
        "        mask_output = K.conv2d(\n",
        "            masks, self.kernel_mask, \n",
        "            strides=self.strides,\n",
        "            padding='valid',\n",
        "            data_format=self.data_format,\n",
        "            dilation_rate=self.dilation_rate\n",
        "        )\n",
        "\n",
        "        # Apply convolutions to image\n",
        "        img_output = K.conv2d(\n",
        "            (images*masks), self.kernel, \n",
        "            strides=self.strides,\n",
        "            padding='valid',\n",
        "            data_format=self.data_format,\n",
        "            dilation_rate=self.dilation_rate\n",
        "        )        \n",
        "\n",
        "        # Calculate the mask ratio on each pixel in the output mask\n",
        "        mask_ratio = self.window_size / (mask_output + 1e-8)\n",
        "\n",
        "        # Clip output to be between 0 and 1\n",
        "        mask_output = K.clip(mask_output, 0, 1)\n",
        "\n",
        "        # Remove ratio values where there are holes\n",
        "        mask_ratio = mask_ratio * mask_output\n",
        "\n",
        "        # Normalize iamge output\n",
        "        img_output = img_output * mask_ratio\n",
        "\n",
        "        # Apply bias only to the image (if chosen to do so)\n",
        "        if self.use_bias:\n",
        "            img_output = K.bias_add(\n",
        "                img_output,\n",
        "                self.bias,\n",
        "                data_format=self.data_format)\n",
        "        \n",
        "        # Apply activations on the image\n",
        "        if self.activation is not None:\n",
        "            img_output = self.activation(img_output)\n",
        "            \n",
        "        return [img_output, mask_output]\n",
        "    \n",
        "    def compute_output_shape(self, input_shape):\n",
        "        if self.data_format == 'channels_last':\n",
        "            space = input_shape[0][1:-1]\n",
        "            new_space = []\n",
        "            for i in range(len(space)):\n",
        "                new_dim = conv_utils.conv_output_length(\n",
        "                    space[i],\n",
        "                    self.kernel_size[i],\n",
        "                    padding='same',\n",
        "                    stride=self.strides[i],\n",
        "                    dilation=self.dilation_rate[i])\n",
        "                new_space.append(new_dim)\n",
        "            new_shape = (input_shape[0][0],) + tuple(new_space) + (self.filters,)\n",
        "            return [new_shape, new_shape]\n",
        "        if self.data_format == 'channels_first':\n",
        "            space = input_shape[2:]\n",
        "            new_space = []\n",
        "            for i in range(len(space)):\n",
        "                new_dim = conv_utils.conv_output_length(\n",
        "                    space[i],\n",
        "                    self.kernel_size[i],\n",
        "                    padding='same',\n",
        "                    stride=self.strides[i],\n",
        "                    dilation=self.dilation_rate[i])\n",
        "                new_space.append(new_dim)\n",
        "            new_shape = (input_shape[0], self.filters) + tuple(new_space)\n",
        "            return [new_shape, new_shape]"
      ],
      "execution_count": null,
      "outputs": []
    },
    {
      "cell_type": "code",
      "metadata": {
        "id": "t1mdw4TkYD8N"
      },
      "source": [
        "def build_pconv_unet(train_bn=True):      \n",
        "\n",
        "\n",
        "        img_rows = 128\n",
        "        img_cols = 128\n",
        "        # INPUTS\n",
        "        inputs_img = Input((img_rows, img_cols, 1), name='inputs_img')\n",
        "        inputs_mask = Input((img_rows, img_cols, 1), name='inputs_mask')\n",
        "        \n",
        "        # ENCODER\n",
        "        def encoder_layer(img_in, mask_in, filters, kernel_size, bn=True):###\n",
        "            conv, mask = PConv2D(filters, kernel_size, strides=2, padding='same')([img_in, mask_in])\n",
        "            if bn:\n",
        "                conv = BatchNormalization(name='EncBN'+str(encoder_layer.counter))(conv, training=train_bn)\n",
        "            conv = Activation('relu')(conv)\n",
        "            encoder_layer.counter += 1\n",
        "            return conv, mask\n",
        "        encoder_layer.counter = 0\n",
        "        \n",
        "        e_conv1, e_mask1 = encoder_layer(inputs_img, inputs_mask, 32, 5, bn=False)\n",
        "        e_conv5, e_mask5 = encoder_layer(e_conv1, e_mask1, 64, 3)\n",
        "        e_conv7, e_mask7 = encoder_layer(e_conv5, e_mask5, 128, 3)\n",
        "        e_conv8, e_mask8 = encoder_layer(e_conv7, e_mask7, 128, 3)\n",
        "\n",
        "        #model = Model(inputs=[inputs_img, inputs_mask], outputs=[e_conv8, e_mask8])\n",
        "        \n",
        "        # DECODER\n",
        "        def decoder_layer(img_in, mask_in, e_conv, e_mask, filters, kernel_size, bn=True):###\n",
        "            up_img = UpSampling2D(size=(2,2))(img_in)\n",
        "            up_mask = UpSampling2D(size=(2,2))(mask_in)\n",
        "            concat_img = Concatenate(axis=3)([e_conv,up_img])\n",
        "            concat_mask = Concatenate(axis=3)([e_mask,up_mask])\n",
        "            conv, mask = PConv2D(filters, kernel_size, padding='same')([concat_img, concat_mask])\n",
        "            if bn:\n",
        "                conv = BatchNormalization()(conv)\n",
        "            conv = LeakyReLU(alpha=0.2)(conv)\n",
        "            return conv, mask\n",
        "            \n",
        "        d_conv9, d_mask9 = decoder_layer(e_conv8, e_mask8, e_conv7, e_mask7, 128, 3)\n",
        "        d_conv11, d_mask11 = decoder_layer(d_conv9, d_mask9, e_conv5, e_mask5, 64, 3)\n",
        "        d_conv15, d_mask15 = decoder_layer(d_conv11, d_mask11, e_conv1, e_mask1, 32, 3)\n",
        "        d_conv16, d_mask16 = decoder_layer(d_conv15, d_mask15, inputs_img, inputs_mask,16, 3, bn=False)\n",
        "        outputs = Conv2D(1, 3,padding='same', activation = 'sigmoid', name='outputs_img')(d_conv16)\n",
        "        \n",
        "        # Setup the model inputs / outputs\n",
        "        model = Model(inputs=[inputs_img, inputs_mask], outputs=outputs)\n",
        "\n",
        "        return model, inputs_mask    "
      ],
      "execution_count": null,
      "outputs": []
    },
    {
      "cell_type": "code",
      "metadata": {
        "id": "OWESTEiGvB7k"
      },
      "source": [
        "def build_pconv_unet2(train_bn=True):      \n",
        "\n",
        "\n",
        "        img_rows = 128\n",
        "        img_cols = 128\n",
        "        # INPUTS\n",
        "        inputs_img = Input((img_rows, img_cols, 1), name='inputs_img')\n",
        "        inputs_mask = Input((img_rows, img_cols, 1), name='inputs_mask')\n",
        "        \n",
        "        # ENCODER\n",
        "        def encoder_layer(img_in, mask_in, filters, kernel_size, bn=True):###\n",
        "            conv, mask = PConv2D(filters, kernel_size, strides=1, padding='same')([img_in, mask_in])\n",
        "            conv = MaxPooling2D(pool_size=(2, 2))(conv)\n",
        "            mask = MaxPooling2D(pool_size=(2, 2))(mask)            \n",
        "            if bn:\n",
        "                conv = BatchNormalization(name='EncBN'+str(encoder_layer.counter))(conv, training=train_bn)\n",
        "\n",
        "            conv = Activation('relu')(conv)\n",
        "            encoder_layer.counter += 1\n",
        "            return conv, mask\n",
        "        encoder_layer.counter = 0\n",
        "        \n",
        "        e_conv1, e_mask1 = encoder_layer(inputs_img, inputs_mask, 32, 5, bn=False)\n",
        "        e_conv5, e_mask5 = encoder_layer(e_conv1, e_mask1, 64, 3)\n",
        "        e_conv7, e_mask7 = encoder_layer(e_conv5, e_mask5, 128, 3)\n",
        "        e_conv8, e_mask8 = encoder_layer(e_conv7, e_mask7, 128, 3)\n",
        "\n",
        "        #model = Model(inputs=[inputs_img, inputs_mask], outputs=[e_conv8, e_mask8])\n",
        "        \n",
        "        # DECODER\n",
        "        def decoder_layer(img_in, mask_in, e_conv, e_mask, filters, kernel_size, bn=True):###\n",
        "            up_img = UpSampling2D(size=(2,2))(img_in)\n",
        "            up_mask = UpSampling2D(size=(2,2))(mask_in)\n",
        "            concat_img = Concatenate(axis=3)([e_conv,up_img])\n",
        "            concat_mask = Concatenate(axis=3)([e_mask,up_mask])\n",
        "            conv, mask = PConv2D(filters, kernel_size, padding='same')([concat_img, concat_mask])\n",
        "            if bn:\n",
        "                conv = BatchNormalization()(conv)\n",
        "            conv = LeakyReLU(alpha=0.2)(conv)\n",
        "            return conv, mask\n",
        "            \n",
        "        d_conv9, d_mask9 = decoder_layer(e_conv8, e_mask8, e_conv7, e_mask7, 128, 3)\n",
        "        d_conv11, d_mask11 = decoder_layer(d_conv9, d_mask9, e_conv5, e_mask5, 64, 3)\n",
        "        d_conv15, d_mask15 = decoder_layer(d_conv11, d_mask11, e_conv1, e_mask1, 32, 3)\n",
        "        d_conv16, d_mask16 = decoder_layer(d_conv15, d_mask15, inputs_img, inputs_mask,16, 3, bn=False)\n",
        "        outputs = Conv2D(1, 3,padding='same', activation = 'sigmoid', name='outputs_img')(d_conv16)\n",
        "        \n",
        "        # Setup the model inputs / outputs\n",
        "        model = Model(inputs=[inputs_img, inputs_mask], outputs=outputs)\n",
        "\n",
        "        return model, inputs_mask    "
      ],
      "execution_count": null,
      "outputs": []
    },
    {
      "cell_type": "code",
      "metadata": {
        "id": "fGXD_Hu-haVm"
      },
      "source": [
        "C,D = build_pconv_unet()"
      ],
      "execution_count": null,
      "outputs": []
    },
    {
      "cell_type": "code",
      "metadata": {
        "id": "e8tMOHJdv8PN"
      },
      "source": [
        "E,F = build_pconv_unet2()"
      ],
      "execution_count": null,
      "outputs": []
    },
    {
      "cell_type": "code",
      "metadata": {
        "id": "3DSpdEieBde2"
      },
      "source": [
        "C.compile(optimizer='adam',loss='binary_crossentropy')\n",
        "E.compile(optimizer='adam',loss='binary_crossentropy')"
      ],
      "execution_count": null,
      "outputs": []
    },
    {
      "cell_type": "code",
      "metadata": {
        "colab": {
          "base_uri": "https://localhost:8080/"
        },
        "id": "cIVIwVczhfuA",
        "outputId": "1b61167b-6114-467a-93d9-dcdd47b1116d"
      },
      "source": [
        "C.summary()"
      ],
      "execution_count": null,
      "outputs": [
        {
          "output_type": "stream",
          "text": [
            "Model: \"model\"\n",
            "__________________________________________________________________________________________________\n",
            "Layer (type)                    Output Shape         Param #     Connected to                     \n",
            "==================================================================================================\n",
            "inputs_img (InputLayer)         [(None, 128, 128, 1) 0                                            \n",
            "__________________________________________________________________________________________________\n",
            "inputs_mask (InputLayer)        [(None, 128, 128, 1) 0                                            \n",
            "__________________________________________________________________________________________________\n",
            "p_conv2d (PConv2D)              [(None, 64, 64, 32), 1632        inputs_img[0][0]                 \n",
            "                                                                 inputs_mask[0][0]                \n",
            "__________________________________________________________________________________________________\n",
            "activation (Activation)         (None, 64, 64, 32)   0           p_conv2d[0][0]                   \n",
            "__________________________________________________________________________________________________\n",
            "p_conv2d_1 (PConv2D)            [(None, 32, 32, 64), 36928       activation[0][0]                 \n",
            "                                                                 p_conv2d[0][1]                   \n",
            "__________________________________________________________________________________________________\n",
            "EncBN1 (BatchNormalization)     (None, 32, 32, 64)   256         p_conv2d_1[0][0]                 \n",
            "__________________________________________________________________________________________________\n",
            "activation_1 (Activation)       (None, 32, 32, 64)   0           EncBN1[0][0]                     \n",
            "__________________________________________________________________________________________________\n",
            "p_conv2d_2 (PConv2D)            [(None, 16, 16, 128) 147584      activation_1[0][0]               \n",
            "                                                                 p_conv2d_1[0][1]                 \n",
            "__________________________________________________________________________________________________\n",
            "EncBN2 (BatchNormalization)     (None, 16, 16, 128)  512         p_conv2d_2[0][0]                 \n",
            "__________________________________________________________________________________________________\n",
            "activation_2 (Activation)       (None, 16, 16, 128)  0           EncBN2[0][0]                     \n",
            "__________________________________________________________________________________________________\n",
            "p_conv2d_3 (PConv2D)            [(None, 8, 8, 128),  295040      activation_2[0][0]               \n",
            "                                                                 p_conv2d_2[0][1]                 \n",
            "__________________________________________________________________________________________________\n",
            "EncBN3 (BatchNormalization)     (None, 8, 8, 128)    512         p_conv2d_3[0][0]                 \n",
            "__________________________________________________________________________________________________\n",
            "activation_3 (Activation)       (None, 8, 8, 128)    0           EncBN3[0][0]                     \n",
            "__________________________________________________________________________________________________\n",
            "up_sampling2d (UpSampling2D)    (None, 16, 16, 128)  0           activation_3[0][0]               \n",
            "__________________________________________________________________________________________________\n",
            "up_sampling2d_1 (UpSampling2D)  (None, 16, 16, 128)  0           p_conv2d_3[0][1]                 \n",
            "__________________________________________________________________________________________________\n",
            "concatenate (Concatenate)       (None, 16, 16, 256)  0           activation_2[0][0]               \n",
            "                                                                 up_sampling2d[0][0]              \n",
            "__________________________________________________________________________________________________\n",
            "concatenate_1 (Concatenate)     (None, 16, 16, 256)  0           p_conv2d_2[0][1]                 \n",
            "                                                                 up_sampling2d_1[0][0]            \n",
            "__________________________________________________________________________________________________\n",
            "p_conv2d_4 (PConv2D)            [(None, 16, 16, 128) 589952      concatenate[0][0]                \n",
            "                                                                 concatenate_1[0][0]              \n",
            "__________________________________________________________________________________________________\n",
            "batch_normalization (BatchNorma (None, 16, 16, 128)  512         p_conv2d_4[0][0]                 \n",
            "__________________________________________________________________________________________________\n",
            "leaky_re_lu (LeakyReLU)         (None, 16, 16, 128)  0           batch_normalization[0][0]        \n",
            "__________________________________________________________________________________________________\n",
            "up_sampling2d_2 (UpSampling2D)  (None, 32, 32, 128)  0           leaky_re_lu[0][0]                \n",
            "__________________________________________________________________________________________________\n",
            "up_sampling2d_3 (UpSampling2D)  (None, 32, 32, 128)  0           p_conv2d_4[0][1]                 \n",
            "__________________________________________________________________________________________________\n",
            "concatenate_2 (Concatenate)     (None, 32, 32, 192)  0           activation_1[0][0]               \n",
            "                                                                 up_sampling2d_2[0][0]            \n",
            "__________________________________________________________________________________________________\n",
            "concatenate_3 (Concatenate)     (None, 32, 32, 192)  0           p_conv2d_1[0][1]                 \n",
            "                                                                 up_sampling2d_3[0][0]            \n",
            "__________________________________________________________________________________________________\n",
            "p_conv2d_5 (PConv2D)            [(None, 32, 32, 64), 221248      concatenate_2[0][0]              \n",
            "                                                                 concatenate_3[0][0]              \n",
            "__________________________________________________________________________________________________\n",
            "batch_normalization_1 (BatchNor (None, 32, 32, 64)   256         p_conv2d_5[0][0]                 \n",
            "__________________________________________________________________________________________________\n",
            "leaky_re_lu_1 (LeakyReLU)       (None, 32, 32, 64)   0           batch_normalization_1[0][0]      \n",
            "__________________________________________________________________________________________________\n",
            "up_sampling2d_4 (UpSampling2D)  (None, 64, 64, 64)   0           leaky_re_lu_1[0][0]              \n",
            "__________________________________________________________________________________________________\n",
            "up_sampling2d_5 (UpSampling2D)  (None, 64, 64, 64)   0           p_conv2d_5[0][1]                 \n",
            "__________________________________________________________________________________________________\n",
            "concatenate_4 (Concatenate)     (None, 64, 64, 96)   0           activation[0][0]                 \n",
            "                                                                 up_sampling2d_4[0][0]            \n",
            "__________________________________________________________________________________________________\n",
            "concatenate_5 (Concatenate)     (None, 64, 64, 96)   0           p_conv2d[0][1]                   \n",
            "                                                                 up_sampling2d_5[0][0]            \n",
            "__________________________________________________________________________________________________\n",
            "p_conv2d_6 (PConv2D)            [(None, 64, 64, 32), 55328       concatenate_4[0][0]              \n",
            "                                                                 concatenate_5[0][0]              \n",
            "__________________________________________________________________________________________________\n",
            "batch_normalization_2 (BatchNor (None, 64, 64, 32)   128         p_conv2d_6[0][0]                 \n",
            "__________________________________________________________________________________________________\n",
            "leaky_re_lu_2 (LeakyReLU)       (None, 64, 64, 32)   0           batch_normalization_2[0][0]      \n",
            "__________________________________________________________________________________________________\n",
            "up_sampling2d_6 (UpSampling2D)  (None, 128, 128, 32) 0           leaky_re_lu_2[0][0]              \n",
            "__________________________________________________________________________________________________\n",
            "up_sampling2d_7 (UpSampling2D)  (None, 128, 128, 32) 0           p_conv2d_6[0][1]                 \n",
            "__________________________________________________________________________________________________\n",
            "concatenate_6 (Concatenate)     (None, 128, 128, 33) 0           inputs_img[0][0]                 \n",
            "                                                                 up_sampling2d_6[0][0]            \n",
            "__________________________________________________________________________________________________\n",
            "concatenate_7 (Concatenate)     (None, 128, 128, 33) 0           inputs_mask[0][0]                \n",
            "                                                                 up_sampling2d_7[0][0]            \n",
            "__________________________________________________________________________________________________\n",
            "p_conv2d_7 (PConv2D)            [(None, 128, 128, 16 9520        concatenate_6[0][0]              \n",
            "                                                                 concatenate_7[0][0]              \n",
            "__________________________________________________________________________________________________\n",
            "leaky_re_lu_3 (LeakyReLU)       (None, 128, 128, 16) 0           p_conv2d_7[0][0]                 \n",
            "__________________________________________________________________________________________________\n",
            "outputs_img (Conv2D)            (None, 128, 128, 1)  145         leaky_re_lu_3[0][0]              \n",
            "==================================================================================================\n",
            "Total params: 1,359,553\n",
            "Trainable params: 1,358,465\n",
            "Non-trainable params: 1,088\n",
            "__________________________________________________________________________________________________\n"
          ],
          "name": "stdout"
        }
      ]
    },
    {
      "cell_type": "code",
      "metadata": {
        "colab": {
          "base_uri": "https://localhost:8080/"
        },
        "id": "5pYvtRNXwzyH",
        "outputId": "6f0b6f52-9d18-41df-a15a-62740852884d"
      },
      "source": [
        "E.summary()"
      ],
      "execution_count": null,
      "outputs": [
        {
          "output_type": "stream",
          "text": [
            "Model: \"model_1\"\n",
            "__________________________________________________________________________________________________\n",
            "Layer (type)                    Output Shape         Param #     Connected to                     \n",
            "==================================================================================================\n",
            "inputs_img (InputLayer)         [(None, 128, 128, 1) 0                                            \n",
            "__________________________________________________________________________________________________\n",
            "inputs_mask (InputLayer)        [(None, 128, 128, 1) 0                                            \n",
            "__________________________________________________________________________________________________\n",
            "p_conv2d_10 (PConv2D)           [(None, 128, 128, 32 1632        inputs_img[0][0]                 \n",
            "                                                                 inputs_mask[0][0]                \n",
            "__________________________________________________________________________________________________\n",
            "max_pooling2d_4 (MaxPooling2D)  (None, 64, 64, 32)   0           p_conv2d_10[0][0]                \n",
            "__________________________________________________________________________________________________\n",
            "activation_6 (Activation)       (None, 64, 64, 32)   0           max_pooling2d_4[0][0]            \n",
            "__________________________________________________________________________________________________\n",
            "max_pooling2d_5 (MaxPooling2D)  (None, 64, 64, 32)   0           p_conv2d_10[0][1]                \n",
            "__________________________________________________________________________________________________\n",
            "p_conv2d_11 (PConv2D)           [(None, 64, 64, 64), 36928       activation_6[0][0]               \n",
            "                                                                 max_pooling2d_5[0][0]            \n",
            "__________________________________________________________________________________________________\n",
            "max_pooling2d_6 (MaxPooling2D)  (None, 32, 32, 64)   0           p_conv2d_11[0][0]                \n",
            "__________________________________________________________________________________________________\n",
            "EncBN1 (BatchNormalization)     (None, 32, 32, 64)   256         max_pooling2d_6[0][0]            \n",
            "__________________________________________________________________________________________________\n",
            "activation_7 (Activation)       (None, 32, 32, 64)   0           EncBN1[0][0]                     \n",
            "__________________________________________________________________________________________________\n",
            "max_pooling2d_7 (MaxPooling2D)  (None, 32, 32, 64)   0           p_conv2d_11[0][1]                \n",
            "__________________________________________________________________________________________________\n",
            "p_conv2d_12 (PConv2D)           [(None, 32, 32, 128) 147584      activation_7[0][0]               \n",
            "                                                                 max_pooling2d_7[0][0]            \n",
            "__________________________________________________________________________________________________\n",
            "max_pooling2d_8 (MaxPooling2D)  (None, 16, 16, 128)  0           p_conv2d_12[0][0]                \n",
            "__________________________________________________________________________________________________\n",
            "EncBN2 (BatchNormalization)     (None, 16, 16, 128)  512         max_pooling2d_8[0][0]            \n",
            "__________________________________________________________________________________________________\n",
            "activation_8 (Activation)       (None, 16, 16, 128)  0           EncBN2[0][0]                     \n",
            "__________________________________________________________________________________________________\n",
            "max_pooling2d_9 (MaxPooling2D)  (None, 16, 16, 128)  0           p_conv2d_12[0][1]                \n",
            "__________________________________________________________________________________________________\n",
            "p_conv2d_13 (PConv2D)           [(None, 16, 16, 128) 295040      activation_8[0][0]               \n",
            "                                                                 max_pooling2d_9[0][0]            \n",
            "__________________________________________________________________________________________________\n",
            "max_pooling2d_10 (MaxPooling2D) (None, 8, 8, 128)    0           p_conv2d_13[0][0]                \n",
            "__________________________________________________________________________________________________\n",
            "EncBN3 (BatchNormalization)     (None, 8, 8, 128)    512         max_pooling2d_10[0][0]           \n",
            "__________________________________________________________________________________________________\n",
            "activation_9 (Activation)       (None, 8, 8, 128)    0           EncBN3[0][0]                     \n",
            "__________________________________________________________________________________________________\n",
            "max_pooling2d_11 (MaxPooling2D) (None, 8, 8, 128)    0           p_conv2d_13[0][1]                \n",
            "__________________________________________________________________________________________________\n",
            "up_sampling2d_8 (UpSampling2D)  (None, 16, 16, 128)  0           activation_9[0][0]               \n",
            "__________________________________________________________________________________________________\n",
            "up_sampling2d_9 (UpSampling2D)  (None, 16, 16, 128)  0           max_pooling2d_11[0][0]           \n",
            "__________________________________________________________________________________________________\n",
            "concatenate_8 (Concatenate)     (None, 16, 16, 256)  0           activation_8[0][0]               \n",
            "                                                                 up_sampling2d_8[0][0]            \n",
            "__________________________________________________________________________________________________\n",
            "concatenate_9 (Concatenate)     (None, 16, 16, 256)  0           max_pooling2d_9[0][0]            \n",
            "                                                                 up_sampling2d_9[0][0]            \n",
            "__________________________________________________________________________________________________\n",
            "p_conv2d_14 (PConv2D)           [(None, 16, 16, 128) 589952      concatenate_8[0][0]              \n",
            "                                                                 concatenate_9[0][0]              \n",
            "__________________________________________________________________________________________________\n",
            "batch_normalization_3 (BatchNor (None, 16, 16, 128)  512         p_conv2d_14[0][0]                \n",
            "__________________________________________________________________________________________________\n",
            "leaky_re_lu_4 (LeakyReLU)       (None, 16, 16, 128)  0           batch_normalization_3[0][0]      \n",
            "__________________________________________________________________________________________________\n",
            "up_sampling2d_10 (UpSampling2D) (None, 32, 32, 128)  0           leaky_re_lu_4[0][0]              \n",
            "__________________________________________________________________________________________________\n",
            "up_sampling2d_11 (UpSampling2D) (None, 32, 32, 128)  0           p_conv2d_14[0][1]                \n",
            "__________________________________________________________________________________________________\n",
            "concatenate_10 (Concatenate)    (None, 32, 32, 192)  0           activation_7[0][0]               \n",
            "                                                                 up_sampling2d_10[0][0]           \n",
            "__________________________________________________________________________________________________\n",
            "concatenate_11 (Concatenate)    (None, 32, 32, 192)  0           max_pooling2d_7[0][0]            \n",
            "                                                                 up_sampling2d_11[0][0]           \n",
            "__________________________________________________________________________________________________\n",
            "p_conv2d_15 (PConv2D)           [(None, 32, 32, 64), 221248      concatenate_10[0][0]             \n",
            "                                                                 concatenate_11[0][0]             \n",
            "__________________________________________________________________________________________________\n",
            "batch_normalization_4 (BatchNor (None, 32, 32, 64)   256         p_conv2d_15[0][0]                \n",
            "__________________________________________________________________________________________________\n",
            "leaky_re_lu_5 (LeakyReLU)       (None, 32, 32, 64)   0           batch_normalization_4[0][0]      \n",
            "__________________________________________________________________________________________________\n",
            "up_sampling2d_12 (UpSampling2D) (None, 64, 64, 64)   0           leaky_re_lu_5[0][0]              \n",
            "__________________________________________________________________________________________________\n",
            "up_sampling2d_13 (UpSampling2D) (None, 64, 64, 64)   0           p_conv2d_15[0][1]                \n",
            "__________________________________________________________________________________________________\n",
            "concatenate_12 (Concatenate)    (None, 64, 64, 96)   0           activation_6[0][0]               \n",
            "                                                                 up_sampling2d_12[0][0]           \n",
            "__________________________________________________________________________________________________\n",
            "concatenate_13 (Concatenate)    (None, 64, 64, 96)   0           max_pooling2d_5[0][0]            \n",
            "                                                                 up_sampling2d_13[0][0]           \n",
            "__________________________________________________________________________________________________\n",
            "p_conv2d_16 (PConv2D)           [(None, 64, 64, 32), 55328       concatenate_12[0][0]             \n",
            "                                                                 concatenate_13[0][0]             \n",
            "__________________________________________________________________________________________________\n",
            "batch_normalization_5 (BatchNor (None, 64, 64, 32)   128         p_conv2d_16[0][0]                \n",
            "__________________________________________________________________________________________________\n",
            "leaky_re_lu_6 (LeakyReLU)       (None, 64, 64, 32)   0           batch_normalization_5[0][0]      \n",
            "__________________________________________________________________________________________________\n",
            "up_sampling2d_14 (UpSampling2D) (None, 128, 128, 32) 0           leaky_re_lu_6[0][0]              \n",
            "__________________________________________________________________________________________________\n",
            "up_sampling2d_15 (UpSampling2D) (None, 128, 128, 32) 0           p_conv2d_16[0][1]                \n",
            "__________________________________________________________________________________________________\n",
            "concatenate_14 (Concatenate)    (None, 128, 128, 33) 0           inputs_img[0][0]                 \n",
            "                                                                 up_sampling2d_14[0][0]           \n",
            "__________________________________________________________________________________________________\n",
            "concatenate_15 (Concatenate)    (None, 128, 128, 33) 0           inputs_mask[0][0]                \n",
            "                                                                 up_sampling2d_15[0][0]           \n",
            "__________________________________________________________________________________________________\n",
            "p_conv2d_17 (PConv2D)           [(None, 128, 128, 16 9520        concatenate_14[0][0]             \n",
            "                                                                 concatenate_15[0][0]             \n",
            "__________________________________________________________________________________________________\n",
            "leaky_re_lu_7 (LeakyReLU)       (None, 128, 128, 16) 0           p_conv2d_17[0][0]                \n",
            "__________________________________________________________________________________________________\n",
            "outputs_img (Conv2D)            (None, 128, 128, 1)  145         leaky_re_lu_7[0][0]              \n",
            "==================================================================================================\n",
            "Total params: 1,359,553\n",
            "Trainable params: 1,358,465\n",
            "Non-trainable params: 1,088\n",
            "__________________________________________________________________________________________________\n"
          ],
          "name": "stdout"
        }
      ]
    },
    {
      "cell_type": "code",
      "metadata": {
        "colab": {
          "base_uri": "https://localhost:8080/"
        },
        "id": "My5z0kvQjczf",
        "outputId": "2c4445e6-2bf2-4103-84ad-d41f2c5e0061"
      },
      "source": [
        "import tensorflow as tf\n",
        "import numpy as np\n",
        "from matplotlib import pyplot as plt\n",
        "(x_train, y_train), (x_test, y_test) = tf.keras.datasets.mnist.load_data()"
      ],
      "execution_count": null,
      "outputs": [
        {
          "output_type": "stream",
          "text": [
            "Downloading data from https://storage.googleapis.com/tensorflow/tf-keras-datasets/mnist.npz\n",
            "11493376/11490434 [==============================] - 0s 0us/step\n"
          ],
          "name": "stdout"
        }
      ]
    },
    {
      "cell_type": "code",
      "metadata": {
        "colab": {
          "base_uri": "https://localhost:8080/"
        },
        "id": "y9g9s0SNrimj",
        "outputId": "93251f78-3a5c-42e7-f07e-e4cce99dd94f"
      },
      "source": [
        "x_train.shape"
      ],
      "execution_count": null,
      "outputs": [
        {
          "output_type": "execute_result",
          "data": {
            "text/plain": [
              "(60000, 28, 28)"
            ]
          },
          "metadata": {
            "tags": []
          },
          "execution_count": 8
        }
      ]
    },
    {
      "cell_type": "code",
      "metadata": {
        "id": "dRDxS057rxzs"
      },
      "source": [
        "#import numpy as np\n",
        "#X = np.zeros((10000,128,128))"
      ],
      "execution_count": null,
      "outputs": []
    },
    {
      "cell_type": "code",
      "metadata": {
        "id": "a2OVMOg7rlRz"
      },
      "source": [
        "#import cv2\n",
        "#for i in range(10000):\n",
        "#  X[i] = (cv2.resize(x_train[i],(128,128)))"
      ],
      "execution_count": null,
      "outputs": []
    },
    {
      "cell_type": "code",
      "metadata": {
        "id": "Z_MaUwnorwl9"
      },
      "source": [
        "X.shape"
      ],
      "execution_count": null,
      "outputs": []
    },
    {
      "cell_type": "code",
      "metadata": {
        "id": "gb0vab30s78N"
      },
      "source": [
        "X[0]"
      ],
      "execution_count": null,
      "outputs": []
    },
    {
      "cell_type": "code",
      "metadata": {
        "colab": {
          "base_uri": "https://localhost:8080/",
          "height": 286
        },
        "id": "uM2tZZfatkqa",
        "outputId": "87788c80-eb2b-4432-9b7b-087b074c16d6"
      },
      "source": [
        "#plt.imshow(X[0])"
      ],
      "execution_count": null,
      "outputs": [
        {
          "output_type": "execute_result",
          "data": {
            "text/plain": [
              "<matplotlib.image.AxesImage at 0x7f68573d0250>"
            ]
          },
          "metadata": {
            "tags": []
          },
          "execution_count": 6
        },
        {
          "output_type": "display_data",
          "data": {
            "image/png": "[encoded data removed]",
            "text/plain": [
              "<Figure size 432x288 with 1 Axes>"
            ]
          },
          "metadata": {
            "tags": [],
            "needs_background": "light"
          }
        }
      ]
    },
    {
      "cell_type": "code",
      "metadata": {
        "id": "guiB4uLp51hn"
      },
      "source": [
        "import tensorflow as tf\n",
        "import cv2  \n",
        "import matplotlib.pyplot as plt\n",
        "from google.colab.patches import cv2_imshow\n",
        "def contour(img):\n",
        "  img1 = img.copy()\n",
        "  Gimg = cv2.GaussianBlur(img1,(5,5),1)\n",
        "  edge = cv2.Canny(Gimg,100,255,3)\n",
        "  return edge"
      ],
      "execution_count": null,
      "outputs": []
    },
    {
      "cell_type": "code",
      "metadata": {
        "id": "6PFrSr1851k9"
      },
      "source": [
        "x_train_cont = X.copy()\n",
        "for i in range(X.shape[0]):\n",
        "  x_train_cont[i] = contour(X[i])"
      ],
      "execution_count": null,
      "outputs": []
    },
    {
      "cell_type": "code",
      "metadata": {
        "id": "ep-w9y6-5-H0"
      },
      "source": [
        "x_train_cont[0]"
      ],
      "execution_count": null,
      "outputs": []
    },
    {
      "cell_type": "code",
      "metadata": {
        "id": "RxPbqpLlBvgH"
      },
      "source": [
        "from numpy import loadtxt\n",
        "Mask = loadtxt('/content/drive/My Drive/Colab Notebooks/mask.csv', delimiter=',')"
      ],
      "execution_count": null,
      "outputs": []
    },
    {
      "cell_type": "code",
      "metadata": {
        "id": "is2_xwWL6KJK"
      },
      "source": [
        "X = loadtxt('/content/drive/My Drive/Colab Notebooks/big_xtrain.csv', delimiter=',')\n",
        "#x_train_cont = loadtxt('/content/drive/My Drive/Colab Notebooks/big_contour.csv', delimiter=',')"
      ],
      "execution_count": null,
      "outputs": []
    },
    {
      "cell_type": "code",
      "metadata": {
        "id": "9CBd-Du5xpjA"
      },
      "source": [
        "Mask = Mask.reshape(1597,128,128,1)"
      ],
      "execution_count": null,
      "outputs": []
    },
    {
      "cell_type": "code",
      "metadata": {
        "id": "X7ap9WO7xxvQ"
      },
      "source": [
        "X = X.reshape(10000,128,128,1)\n",
        "#x_train_cont = x_train_cont.reshape(10000,128,128,1)"
      ],
      "execution_count": null,
      "outputs": []
    },
    {
      "cell_type": "code",
      "metadata": {
        "id": "doCOMWKyuGAZ"
      },
      "source": [
        "X = X.astype('float32') / 255\n",
        "#x_train_cont = x_train_cont.astype('float32') /255"
      ],
      "execution_count": null,
      "outputs": []
    },
    {
      "cell_type": "code",
      "metadata": {
        "id": "bQgO-BfAGiW_"
      },
      "source": [
        "#Mask = np.ones((10000,128,128,1))\n",
        "Mask = Mask.astype('float32')\n",
        "Mask = np.reshape(Mask, (len(Mask), 128, 128, 1))  "
      ],
      "execution_count": null,
      "outputs": []
    },
    {
      "cell_type": "code",
      "metadata": {
        "colab": {
          "base_uri": "https://localhost:8080/",
          "height": 286
        },
        "id": "jLwRyWqF7ryJ",
        "outputId": "6e41b77c-5907-4d0e-f040-3e5a390d9a48"
      },
      "source": [
        "plt.imshow(Mask[0].reshape(128,128),cmap='gray')"
      ],
      "execution_count": null,
      "outputs": [
        {
          "output_type": "execute_result",
          "data": {
            "text/plain": [
              "<matplotlib.image.AxesImage at 0x7f679e9f0a50>"
            ]
          },
          "metadata": {
            "tags": []
          },
          "execution_count": 180
        },
        {
          "output_type": "display_data",
          "data": {
            "image/png": "[encoded data removed]",
            "text/plain": [
              "<Figure size 432x288 with 1 Axes>"
            ]
          },
          "metadata": {
            "tags": [],
            "needs_background": "light"
          }
        }
      ]
    },
    {
      "cell_type": "code",
      "metadata": {
        "id": "5-wVXkbo_qW-"
      },
      "source": [
        "c = X[0].reshape(128,128)"
      ],
      "execution_count": null,
      "outputs": []
    },
    {
      "cell_type": "code",
      "metadata": {
        "colab": {
          "base_uri": "https://localhost:8080/",
          "height": 286
        },
        "id": "nelJwc0O-zxV",
        "outputId": "058e1efb-b567-4c34-c88d-580e59a5b307"
      },
      "source": [
        "plt.imshow(c*Mask[0].reshape(128,128),cmap='gray')"
      ],
      "execution_count": null,
      "outputs": [
        {
          "output_type": "execute_result",
          "data": {
            "text/plain": [
              "<matplotlib.image.AxesImage at 0x7fb304073950>"
            ]
          },
          "metadata": {
            "tags": []
          },
          "execution_count": 30
        },
        {
          "output_type": "display_data",
          "data": {
            "image/png": "[encoded data removed]",
            "text/plain": [
              "<Figure size 432x288 with 1 Axes>"
            ]
          },
          "metadata": {
            "tags": [],
            "needs_background": "light"
          }
        }
      ]
    },
    {
      "cell_type": "code",
      "metadata": {
        "colab": {
          "base_uri": "https://localhost:8080/"
        },
        "id": "agHgOYG-0vNU",
        "outputId": "714ddaf4-5be7-4d40-fbc0-54f8ab439c3e"
      },
      "source": [
        "c*(Mask[0].reshape(128,128))"
      ],
      "execution_count": null,
      "outputs": [
        {
          "output_type": "execute_result",
          "data": {
            "text/plain": [
              "array([[0., 0., 0., ..., 0., 0., 0.],\n",
              "       [0., 0., 0., ..., 0., 0., 0.],\n",
              "       [0., 0., 0., ..., 0., 0., 0.],\n",
              "       ...,\n",
              "       [0., 0., 0., ..., 0., 0., 0.],\n",
              "       [0., 0., 0., ..., 0., 0., 0.],\n",
              "       [0., 0., 0., ..., 0., 0., 0.]], dtype=float32)"
            ]
          },
          "metadata": {
            "tags": []
          },
          "execution_count": 19
        }
      ]
    },
    {
      "cell_type": "code",
      "metadata": {
        "colab": {
          "base_uri": "https://localhost:8080/"
        },
        "id": "sI4XfJqf_xQw",
        "outputId": "28758956-8465-4b6b-9286-87a351a42bd8"
      },
      "source": [
        "X.shape"
      ],
      "execution_count": null,
      "outputs": [
        {
          "output_type": "execute_result",
          "data": {
            "text/plain": [
              "(10000, 128, 128, 1)"
            ]
          },
          "metadata": {
            "tags": []
          },
          "execution_count": 186
        }
      ]
    },
    {
      "cell_type": "code",
      "metadata": {
        "id": "fat7ZiTnxrAI"
      },
      "source": [
        "Mask2 = np.ones((10000,128,128,1))\n",
        "Mask2 = Mask2.astype('float32')\n",
        "Mask2 = np.reshape(Mask2, (len(Mask2), 128, 128, 1))  "
      ],
      "execution_count": null,
      "outputs": []
    },
    {
      "cell_type": "code",
      "metadata": {
        "colab": {
          "base_uri": "https://localhost:8080/"
        },
        "id": "_xSf5ZDWBsOO",
        "outputId": "c442fbd1-04aa-4d25-d397-2128e2470c21"
      },
      "source": [
        "C.fit([X[:1597],Mask], X[:1597],\n",
        "                epochs=5,\n",
        "                batch_size=128,\n",
        "                shuffle=True)"
      ],
      "execution_count": null,
      "outputs": [
        {
          "output_type": "stream",
          "text": [
            "Epoch 1/5\n",
            "13/13 [==============================] - 15s 1s/step - loss: 0.1068\n",
            "Epoch 2/5\n",
            "13/13 [==============================] - 13s 991ms/step - loss: 0.1001\n",
            "Epoch 3/5\n",
            "13/13 [==============================] - 13s 987ms/step - loss: 0.0991\n",
            "Epoch 4/5\n",
            "13/13 [==============================] - 13s 987ms/step - loss: 0.0987\n",
            "Epoch 5/5\n",
            "13/13 [==============================] - 13s 984ms/step - loss: 0.0986\n"
          ],
          "name": "stdout"
        },
        {
          "output_type": "execute_result",
          "data": {
            "text/plain": [
              "<tensorflow.python.keras.callbacks.History at 0x7f88a2392fd0>"
            ]
          },
          "metadata": {
            "tags": []
          },
          "execution_count": 22
        }
      ]
    },
    {
      "cell_type": "code",
      "metadata": {
        "colab": {
          "base_uri": "https://localhost:8080/"
        },
        "id": "up5NOxGbxbmD",
        "outputId": "4998c074-8c6e-41c4-9500-aa6f1bf8d712"
      },
      "source": [
        "E.fit([X[:1597],Mask], X[:1597],\n",
        "                epochs=5,\n",
        "                batch_size=128,\n",
        "                shuffle=True)"
      ],
      "execution_count": null,
      "outputs": [
        {
          "output_type": "stream",
          "text": [
            "Epoch 1/5\n",
            "13/13 [==============================] - 10s 624ms/step - loss: 0.6884\n",
            "Epoch 2/5\n",
            "13/13 [==============================] - 8s 627ms/step - loss: 0.6374\n",
            "Epoch 3/5\n",
            "13/13 [==============================] - 8s 630ms/step - loss: 0.4792\n",
            "Epoch 4/5\n",
            "13/13 [==============================] - 8s 631ms/step - loss: 0.3281\n",
            "Epoch 5/5\n",
            "13/13 [==============================] - 8s 634ms/step - loss: 0.2165\n"
          ],
          "name": "stdout"
        },
        {
          "output_type": "execute_result",
          "data": {
            "text/plain": [
              "<tensorflow.python.keras.callbacks.History at 0x7f9f0cee40d0>"
            ]
          },
          "metadata": {
            "tags": []
          },
          "execution_count": 41
        }
      ]
    },
    {
      "cell_type": "code",
      "metadata": {
        "colab": {
          "base_uri": "https://localhost:8080/"
        },
        "id": "zpqnz1Z7x1mN",
        "outputId": "25341759-d0b5-4590-8283-c69dc32afbfd"
      },
      "source": [
        "Mask.shape"
      ],
      "execution_count": null,
      "outputs": [
        {
          "output_type": "execute_result",
          "data": {
            "text/plain": [
              "(1597, 128, 128, 1)"
            ]
          },
          "metadata": {
            "tags": []
          },
          "execution_count": 34
        }
      ]
    },
    {
      "cell_type": "code",
      "metadata": {
        "id": "AwdQChbVHg_r"
      },
      "source": [
        "ans = C.predict([X[:1597],Mask])"
      ],
      "execution_count": null,
      "outputs": []
    },
    {
      "cell_type": "code",
      "metadata": {
        "id": "rSpA9j1LzLMG"
      },
      "source": [
        "ans2 = E.predict([X[:1597],Mask])"
      ],
      "execution_count": null,
      "outputs": []
    },
    {
      "cell_type": "code",
      "metadata": {
        "colab": {
          "base_uri": "https://localhost:8080/"
        },
        "id": "Rd0QyqH6MpJU",
        "outputId": "607c42b9-6fe1-414e-95e6-88b664b0ee7a"
      },
      "source": [
        "Mask[0].shape"
      ],
      "execution_count": null,
      "outputs": [
        {
          "output_type": "execute_result",
          "data": {
            "text/plain": [
              "(128, 128)"
            ]
          },
          "metadata": {
            "tags": []
          },
          "execution_count": 159
        }
      ]
    },
    {
      "cell_type": "code",
      "metadata": {
        "id": "I3JtfBaRMwWA"
      },
      "source": [
        "Mask = Mask.reshape(1597, 128, 128,1)"
      ],
      "execution_count": null,
      "outputs": []
    },
    {
      "cell_type": "code",
      "metadata": {
        "colab": {
          "base_uri": "https://localhost:8080/"
        },
        "id": "iDIx1OzNM5Jr",
        "outputId": "730ab249-932f-455a-eee2-e0c619de7b8b"
      },
      "source": [
        "ans.shape"
      ],
      "execution_count": null,
      "outputs": [
        {
          "output_type": "execute_result",
          "data": {
            "text/plain": [
              "(1597, 128, 128, 1)"
            ]
          },
          "metadata": {
            "tags": []
          },
          "execution_count": 167
        }
      ]
    },
    {
      "cell_type": "code",
      "metadata": {
        "colab": {
          "base_uri": "https://localhost:8080/",
          "height": 286
        },
        "id": "EQF6MJfwKWrL",
        "outputId": "2541a291-3094-41c8-99b9-7462c113ff58"
      },
      "source": [
        "plt.imshow(X[0].reshape(128,128),cmap='gray')"
      ],
      "execution_count": null,
      "outputs": [
        {
          "output_type": "execute_result",
          "data": {
            "text/plain": [
              "<matplotlib.image.AxesImage at 0x7f887db36850>"
            ]
          },
          "metadata": {
            "tags": []
          },
          "execution_count": 25
        },
        {
          "output_type": "display_data",
          "data": {
            "image/png": "[encoded data removed]",
            "text/plain": [
              "<Figure size 432x288 with 1 Axes>"
            ]
          },
          "metadata": {
            "tags": [],
            "needs_background": "light"
          }
        }
      ]
    },
    {
      "cell_type": "markdown",
      "metadata": {
        "id": "R9baOtfYzzkg"
      },
      "source": [
        "pretrain過的"
      ]
    },
    {
      "cell_type": "code",
      "metadata": {
        "colab": {
          "base_uri": "https://localhost:8080/",
          "height": 286
        },
        "id": "Z-jTwFNTzShB",
        "outputId": "baf893f0-e8d3-4a3c-ef7c-9f5bf938425f"
      },
      "source": [
        "plt.imshow(ans2[0].reshape(128,128),cmap='gray')"
      ],
      "execution_count": null,
      "outputs": [
        {
          "output_type": "execute_result",
          "data": {
            "text/plain": [
              "<matplotlib.image.AxesImage at 0x7f9e10b85650>"
            ]
          },
          "metadata": {
            "tags": []
          },
          "execution_count": 32
        },
        {
          "output_type": "display_data",
          "data": {
            "image/png": "[encoded data removed]",
            "text/plain": [
              "<Figure size 432x288 with 1 Axes>"
            ]
          },
          "metadata": {
            "tags": [],
            "needs_background": "light"
          }
        }
      ]
    },
    {
      "cell_type": "code",
      "metadata": {
        "colab": {
          "base_uri": "https://localhost:8080/",
          "height": 286
        },
        "id": "Bh3ioUAUzsva",
        "outputId": "c481e6f5-3570-46be-adf5-351a2439dcdc"
      },
      "source": [
        "plt.imshow(ans2[0].reshape(128,128),cmap='gray')"
      ],
      "execution_count": null,
      "outputs": [
        {
          "output_type": "execute_result",
          "data": {
            "text/plain": [
              "<matplotlib.image.AxesImage at 0x7f9f0d86ff50>"
            ]
          },
          "metadata": {
            "tags": []
          },
          "execution_count": 37
        },
        {
          "output_type": "display_data",
          "data": {
            "image/png": "[encoded data removed]",
            "text/plain": [
              "<Figure size 432x288 with 1 Axes>"
            ]
          },
          "metadata": {
            "tags": [],
            "needs_background": "light"
          }
        }
      ]
    },
    {
      "cell_type": "markdown",
      "metadata": {
        "id": "NSnRQWruz4My"
      },
      "source": [
        "沒pretrain過"
      ]
    },
    {
      "cell_type": "code",
      "metadata": {
        "colab": {
          "base_uri": "https://localhost:8080/",
          "height": 286
        },
        "id": "sJ0gXuJyz3Z6",
        "outputId": "5887ec40-d0ba-4755-b2c5-717ca89475d5"
      },
      "source": [
        "plt.imshow(ans2[0].reshape(128,128),cmap='gray')"
      ],
      "execution_count": null,
      "outputs": [
        {
          "output_type": "execute_result",
          "data": {
            "text/plain": [
              "<matplotlib.image.AxesImage at 0x7f9f09d4a5d0>"
            ]
          },
          "metadata": {
            "tags": []
          },
          "execution_count": 43
        },
        {
          "output_type": "display_data",
          "data": {
            "image/png": "[encoded data removed]",
            "text/plain": [
              "<Figure size 432x288 with 1 Axes>"
            ]
          },
          "metadata": {
            "tags": [],
            "needs_background": "light"
          }
        }
      ]
    },
    {
      "cell_type": "code",
      "metadata": {
        "colab": {
          "base_uri": "https://localhost:8080/",
          "height": 286
        },
        "id": "kPN6oPR-N5nr",
        "outputId": "943d2964-befc-4a65-cdd5-fbb5104efd83"
      },
      "source": [
        "plt.imshow((X[0].reshape(128,128)*Mask[0].reshape(128,128)),cmap='gray')"
      ],
      "execution_count": null,
      "outputs": [
        {
          "output_type": "execute_result",
          "data": {
            "text/plain": [
              "<matplotlib.image.AxesImage at 0x7fc6281952d0>"
            ]
          },
          "metadata": {
            "tags": []
          },
          "execution_count": 114
        },
        {
          "output_type": "display_data",
          "data": {
            "image/png": "[encoded data removed]",
            "text/plain": [
              "<Figure size 432x288 with 1 Axes>"
            ]
          },
          "metadata": {
            "tags": [],
            "needs_background": "light"
          }
        }
      ]
    },
    {
      "cell_type": "code",
      "metadata": {
        "colab": {
          "base_uri": "https://localhost:8080/",
          "height": 286
        },
        "id": "zq1omXFTOHen",
        "outputId": "cceabc07-9c47-4f62-d30d-0e129858f6a9"
      },
      "source": [
        "plt.imshow(ans[0].reshape(128,128),cmap='gray')"
      ],
      "execution_count": null,
      "outputs": [
        {
          "output_type": "execute_result",
          "data": {
            "text/plain": [
              "<matplotlib.image.AxesImage at 0x7fc662244110>"
            ]
          },
          "metadata": {
            "tags": []
          },
          "execution_count": 40
        },
        {
          "output_type": "display_data",
          "data": {
            "image/png": "[encoded data removed]",
            "text/plain": [
              "<Figure size 432x288 with 1 Axes>"
            ]
          },
          "metadata": {
            "tags": [],
            "needs_background": "light"
          }
        }
      ]
    },
    {
      "cell_type": "code",
      "metadata": {
        "id": "RB3oJuWy6Ax6"
      },
      "source": [
        "import cv2\n",
        "import numpy as np\n",
        "ker = np.ones((3,3),np.uint8)\n",
        "x_train_cont = x_train_cont.reshape(10000,128,128)\n",
        "for i in range(10000):\n",
        "  x_train_cont[i] = cv2.dilate(x_train_cont[i],ker,iterations = 1)"
      ],
      "execution_count": null,
      "outputs": []
    },
    {
      "cell_type": "code",
      "metadata": {
        "colab": {
          "base_uri": "https://localhost:8080/",
          "height": 286
        },
        "id": "lJc50Qlh-oCq",
        "outputId": "65191763-bda3-4df2-9b1e-d9adf1281732"
      },
      "source": [
        "plt.imshow(x_train_cont[9],cmap='gray')"
      ],
      "execution_count": null,
      "outputs": [
        {
          "output_type": "execute_result",
          "data": {
            "text/plain": [
              "<matplotlib.image.AxesImage at 0x7fc6372d9fd0>"
            ]
          },
          "metadata": {
            "tags": []
          },
          "execution_count": 80
        },
        {
          "output_type": "display_data",
          "data": {
            "image/png": "[encoded data removed]",
            "text/plain": [
              "<Figure size 432x288 with 1 Axes>"
            ]
          },
          "metadata": {
            "tags": [],
            "needs_background": "light"
          }
        }
      ]
    },
    {
      "cell_type": "code",
      "metadata": {
        "colab": {
          "base_uri": "https://localhost:8080/"
        },
        "id": "XJxEod40-sUl",
        "outputId": "0ce7ec0e-4792-4a2b-9110-73988c87ebf1"
      },
      "source": [
        "x_train_cont[1].shape"
      ],
      "execution_count": null,
      "outputs": [
        {
          "output_type": "execute_result",
          "data": {
            "text/plain": [
              "(128, 128, 1)"
            ]
          },
          "metadata": {
            "tags": []
          },
          "execution_count": 87
        }
      ]
    },
    {
      "cell_type": "code",
      "metadata": {
        "colab": {
          "base_uri": "https://localhost:8080/",
          "height": 286
        },
        "id": "UZZ7qYaI_Pb1",
        "outputId": "4e99805e-ebda-4506-b85e-8cbaceefbd99"
      },
      "source": [
        "plt.imshow(ans[0].reshape(128,128),cmap='gray')"
      ],
      "execution_count": null,
      "outputs": [
        {
          "output_type": "execute_result",
          "data": {
            "text/plain": [
              "<matplotlib.image.AxesImage at 0x7fc6220b9090>"
            ]
          },
          "metadata": {
            "tags": []
          },
          "execution_count": 142
        },
        {
          "output_type": "display_data",
          "data": {
            "image/png": "[encoded data removed]",
            "text/plain": [
              "<Figure size 432x288 with 1 Axes>"
            ]
          },
          "metadata": {
            "tags": [],
            "needs_background": "light"
          }
        }
      ]
    },
    {
      "cell_type": "code",
      "metadata": {
        "id": "J-bXqrhdDLcd"
      },
      "source": [
        ""
      ],
      "execution_count": null,
      "outputs": []
    }
  ]
}